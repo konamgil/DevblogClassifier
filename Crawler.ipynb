{
 "cells": [
  {
   "cell_type": "markdown",
   "metadata": {},
   "source": [
    "# 데이터 크롤링\n",
    "\n",
    "- [awesome-devblog : feeds](https://awesome-devblog.now.sh/api/korean/people/feeds)"
   ]
  },
  {
   "cell_type": "code",
   "execution_count": 31,
   "metadata": {},
   "outputs": [],
   "source": [
    "import requests, json\n",
    "import os, re, csv\n",
    "import pandas as pd\n",
    "from tqdm import trange"
   ]
  },
  {
   "cell_type": "code",
   "execution_count": 13,
   "metadata": {},
   "outputs": [],
   "source": [
    "DATA_PATH = './data'\n",
    "DATA_URL = 'https://awesome-devblog.now.sh/api/korean/people/feeds'\n",
    "DOCUMENTS_PATH = './data/documents.tsv'"
   ]
  },
  {
   "cell_type": "code",
   "execution_count": 137,
   "metadata": {},
   "outputs": [],
   "source": [
    "def getTotal():\n",
    "    \"\"\"\n",
    "    전체 문서 개수 조회\n",
    "    \"\"\"\n",
    "    res = requests.get(DATA_URL, { 'size': 1 }).json()\n",
    "    return res['total'][0]['count']\n",
    "\n",
    "def getDoc(page, size):\n",
    "    \"\"\"\n",
    "    문서 조회\n",
    "    \"\"\"\n",
    "    page += 1\n",
    "    params = {\n",
    "        'sort': 'date.asc',\n",
    "        'page': page,\n",
    "        'size': size\n",
    "    }\n",
    "    return requests.get(DATA_URL, params).json()\n",
    "\n",
    "def getDocs(size, start_page=0):\n",
    "    \"\"\"\n",
    "    전체 문서 조회\n",
    "    \"\"\"\n",
    "    total = getTotal()\n",
    "    if size > 5000: size = 5000\n",
    "    total_req = round(total/size + 0.5)\n",
    "    docs = None\n",
    "    for i in trange(start_page, total_req):\n",
    "        doc = getDoc(i, size)\n",
    "        if docs == None:\n",
    "            docs = doc\n",
    "        else:\n",
    "            docs['data'] += doc['data']\n",
    "    return docs\n",
    "\n",
    "def updateDocs():\n",
    "    \"\"\"\n",
    "    신규 문서 추가\n",
    "    \"\"\"\n",
    "    size = 5000\n",
    "    # imgUr(key 자체가 경우가 존재), postImage 배제\n",
    "    keys = ['_id', 'title', 'link', 'date', 'description', 'author', 'tags', 'count']\n",
    "    if not os.path.isfile(DOCUMENTS_PATH):\n",
    "        # 데이터가 없는 경우, 전체 데이터를 불러서 신규 생성\n",
    "        docs = getDocs(size)\n",
    "        with open(DOCUMENTS_PATH, 'w') as tsv_file:\n",
    "            tsv_writer = csv.writer(tsv_file, delimiter='\\t')\n",
    "            tsv_writer.writerow(['_no', '_label'] + keys)\n",
    "            for i, doc in enumerate(docs['data']):\n",
    "                tsv_writer.writerow([i + 1, ''] + [re.sub('\\t', '', str(doc[k])) for k in keys])\n",
    "    else:\n",
    "        # 기존 데이터가 있는 경우, 신규 데이터를 추가\n",
    "        tsv = pd.read_csv(DOCUMENTS_PATH, delimiter='\\t')\n",
    "        old_total = tsv.tail(1)['_no'].values[0]\n",
    "        docs = getDocs(size, old_total // size)\n",
    "        no = old_total + 1\n",
    "        with open(DOCUMENTS_PATH, 'a') as tsv_file:\n",
    "            tsv_writer = csv.writer(tsv_file, delimiter='\\t')\n",
    "            for i, doc in enumerate(docs['data']):\n",
    "                if doc['_id'] not in tsv._id.unique():\n",
    "                    tsv_writer.writerow([no + i, ''] + [re.sub('\\t', '', str(doc[k])) for k in keys])\n",
    "\n",
    "def tempSetLabel():\n",
    "    \"\"\"\n",
    "    기존 라벨링한거 기존꺼에 반영해두기...추가하기(1회용)\n",
    "    \"\"\"\n",
    "    return"
   ]
  },
  {
   "cell_type": "code",
   "execution_count": 138,
   "metadata": {},
   "outputs": [
    {
     "name": "stderr",
     "output_type": "stream",
     "text": [
      "100%|██████████| 8/8 [00:23<00:00,  2.88s/it]\n"
     ]
    }
   ],
   "source": [
    "updateDocs()"
   ]
  },
  {
   "cell_type": "markdown",
   "metadata": {},
   "source": [
    "### Convert to TSV\n",
    "- title, description, tag만 기록\n",
    "- title이나 description이 3글자 미만인 경우 제외\n",
    "- label 컬럼 추가(default 1)\n",
    " - 0 : IT 관련 글 아님\n",
    " - 1 : 완전 IT 글\n",
    " - 2 : 애매함..(향후 카테고리를 더 나누기 위한 글 : 알고리즘 / 조직, 문화 / 디자인)"
   ]
  },
  {
   "cell_type": "code",
   "execution_count": 136,
   "metadata": {},
   "outputs": [],
   "source": [
    "ntsv = pd.read_csv(DOCUMENTS_PATH, delimiter='\\t')\n",
    "btsv = pd.read_csv('/Users/nero/Project/DocClassification/data/10000_data.tsv', delimiter='\\t')"
   ]
  },
  {
   "cell_type": "code",
   "execution_count": 139,
   "metadata": {},
   "outputs": [
    {
     "data": {
      "text/html": [
       "<div>\n",
       "<style scoped>\n",
       "    .dataframe tbody tr th:only-of-type {\n",
       "        vertical-align: middle;\n",
       "    }\n",
       "\n",
       "    .dataframe tbody tr th {\n",
       "        vertical-align: top;\n",
       "    }\n",
       "\n",
       "    .dataframe thead th {\n",
       "        text-align: right;\n",
       "    }\n",
       "</style>\n",
       "<table border=\"1\" class=\"dataframe\">\n",
       "  <thead>\n",
       "    <tr style=\"text-align: right;\">\n",
       "      <th></th>\n",
       "      <th>Unnamed: 0</th>\n",
       "      <th>label</th>\n",
       "      <th>sentence</th>\n",
       "    </tr>\n",
       "  </thead>\n",
       "  <tbody>\n",
       "    <tr>\n",
       "      <th>0</th>\n",
       "      <td>0</td>\n",
       "      <td>1</td>\n",
       "      <td>todo 리스트를 1달간 사용해본 후기 왜 todo 리스트를 사용했나요 위 질문에 ...</td>\n",
       "    </tr>\n",
       "    <tr>\n",
       "      <th>1</th>\n",
       "      <td>1</td>\n",
       "      <td>0</td>\n",
       "      <td>양평 블룸비스타 콩순이 패밀리룸이 궁금하신분에게 드리는 후기 늦은 여름 휴가로 양평...</td>\n",
       "    </tr>\n",
       "    <tr>\n",
       "      <th>2</th>\n",
       "      <td>2</td>\n",
       "      <td>1</td>\n",
       "      <td>javascript js 자바스크립트 문자열 메소드 javascript 문자열 메소...</td>\n",
       "    </tr>\n",
       "    <tr>\n",
       "      <th>3</th>\n",
       "      <td>3</td>\n",
       "      <td>0</td>\n",
       "      <td>우리 시장에는 어떤 교육이 필요할까요 1 시장적합형 교육과 기술적합형 교육 며칠전 ...</td>\n",
       "    </tr>\n",
       "    <tr>\n",
       "      <th>4</th>\n",
       "      <td>4</td>\n",
       "      <td>0</td>\n",
       "      <td>저 많은 국민은행 앱들은 대체 다 어디다 쓰는 걸까 대략 정리 구글플래이 스토어에서...</td>\n",
       "    </tr>\n",
       "    <tr>\n",
       "      <th>...</th>\n",
       "      <td>...</td>\n",
       "      <td>...</td>\n",
       "      <td>...</td>\n",
       "    </tr>\n",
       "    <tr>\n",
       "      <th>9995</th>\n",
       "      <td>9995</td>\n",
       "      <td>1</td>\n",
       "      <td>nginx rest kubernetes 164 kubernetes nginx ing...</td>\n",
       "    </tr>\n",
       "    <tr>\n",
       "      <th>9996</th>\n",
       "      <td>9996</td>\n",
       "      <td>1</td>\n",
       "      <td>git https javascript html web ui modal design ...</td>\n",
       "    </tr>\n",
       "    <tr>\n",
       "      <th>9997</th>\n",
       "      <td>9997</td>\n",
       "      <td>1</td>\n",
       "      <td>spring boot spring spring boot오류 처리에 대해 서론오류 처...</td>\n",
       "    </tr>\n",
       "    <tr>\n",
       "      <th>9998</th>\n",
       "      <td>9998</td>\n",
       "      <td>1</td>\n",
       "      <td>http3 http3 httpoverquic quic은 quick udp inter...</td>\n",
       "    </tr>\n",
       "    <tr>\n",
       "      <th>9999</th>\n",
       "      <td>9999</td>\n",
       "      <td>1</td>\n",
       "      <td>spring kotlin kotlin spring boot security thym...</td>\n",
       "    </tr>\n",
       "  </tbody>\n",
       "</table>\n",
       "<p>10000 rows × 3 columns</p>\n",
       "</div>"
      ],
      "text/plain": [
       "      Unnamed: 0  label                                           sentence\n",
       "0              0      1  todo 리스트를 1달간 사용해본 후기 왜 todo 리스트를 사용했나요 위 질문에 ...\n",
       "1              1      0  양평 블룸비스타 콩순이 패밀리룸이 궁금하신분에게 드리는 후기 늦은 여름 휴가로 양평...\n",
       "2              2      1  javascript js 자바스크립트 문자열 메소드 javascript 문자열 메소...\n",
       "3              3      0  우리 시장에는 어떤 교육이 필요할까요 1 시장적합형 교육과 기술적합형 교육 며칠전 ...\n",
       "4              4      0  저 많은 국민은행 앱들은 대체 다 어디다 쓰는 걸까 대략 정리 구글플래이 스토어에서...\n",
       "...          ...    ...                                                ...\n",
       "9995        9995      1  nginx rest kubernetes 164 kubernetes nginx ing...\n",
       "9996        9996      1  git https javascript html web ui modal design ...\n",
       "9997        9997      1  spring boot spring spring boot오류 처리에 대해 서론오류 처...\n",
       "9998        9998      1  http3 http3 httpoverquic quic은 quick udp inter...\n",
       "9999        9999      1  spring kotlin kotlin spring boot security thym...\n",
       "\n",
       "[10000 rows x 3 columns]"
      ]
     },
     "execution_count": 139,
     "metadata": {},
     "output_type": "execute_result"
    }
   ],
   "source": [
    "btsv"
   ]
  },
  {
   "cell_type": "code",
   "execution_count": 87,
   "metadata": {},
   "outputs": [],
   "source": [
    "if not os.path.exists(DATA_PATH):\n",
    "    os.makedirs(DATA_PATH)"
   ]
  },
  {
   "cell_type": "code",
   "execution_count": 88,
   "metadata": {},
   "outputs": [],
   "source": [
    "with open(POSTS_JSON_PATH, 'w') as outfile:\n",
    "    json.dump(posts, outfile)"
   ]
  },
  {
   "cell_type": "code",
   "execution_count": 112,
   "metadata": {},
   "outputs": [
    {
     "name": "stdout",
     "output_type": "stream",
     "text": [
      "done\n"
     ]
    }
   ],
   "source": [
    "with open(POSTS_TSV_PATH, 'w') as f:\n",
    "    # title, description, tags만 수집\n",
    "    f.write('\\t'.join(['label', 'title', 'description', 'tags', 'link']))\n",
    "    f.write('\\n')\n",
    "    \n",
    "    for post in posts:\n",
    "        values = []\n",
    "        if len(post['title']) < 3: continue\n",
    "        if len(post['description']) < 3: continue\n",
    "        if len(post['link']) < 10: continue\n",
    "        title = re.sub('\\t', '', post['title'])\n",
    "        description = re.sub('\\t', '', post['description'])\n",
    "        tags = re.sub('\\t', '', ' '.join(post['tags']))\n",
    "        link = re.sub('\\t', '', post['link'])\n",
    "        f.write('\\t'.join(['1', title, description, tags, link]))\n",
    "        f.write('\\n')\n",
    "    print('done')"
   ]
  },
  {
   "cell_type": "code",
   "execution_count": null,
   "metadata": {},
   "outputs": [],
   "source": []
  }
 ],
 "metadata": {
  "kernelspec": {
   "display_name": "dc",
   "language": "python",
   "name": "dc"
  },
  "language_info": {
   "codemirror_mode": {
    "name": "ipython",
    "version": 3
   },
   "file_extension": ".py",
   "mimetype": "text/x-python",
   "name": "python",
   "nbconvert_exporter": "python",
   "pygments_lexer": "ipython3",
   "version": "3.7.3"
  }
 },
 "nbformat": 4,
 "nbformat_minor": 2
}
