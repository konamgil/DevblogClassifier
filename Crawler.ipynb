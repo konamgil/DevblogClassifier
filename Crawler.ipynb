{
 "cells": [
  {
   "cell_type": "code",
   "execution_count": null,
   "metadata": {},
   "outputs": [],
   "source": [
    "!pip install requests"
   ]
  },
  {
   "cell_type": "markdown",
   "metadata": {},
   "source": [
    "# 데이터 크롤링\n",
    "\n",
    "- [awesome-devblog : feeds](https://awesome-devblog.now.sh/api/korean/people/feeds)\n",
    "- 데이터 구조\n",
    "```\n",
    "{'data': [{'_id': '5dc8fb592edca700044d854b',\n",
    "   'title': '어느날 부터 nvm prefix 경고가 뜨기 시작했다....윽.',\n",
    "   'link': 'https://eclipse4j.tistory.com/339',\n",
    "   'date': '2019-11-11T04:49:15.000Z',\n",
    "   'description': 'nvmisnotcompatiblewiththenpmconfig\"prefix\"option:currentlysetto\"/usr/local\"  .. 다음과 같이 했더니 더 이상 경고는 나타나지 않았다.  우선 .zshrc 또는 .bash_profile 에서 두줄에 대한 삭제 또는 주석처리 export NVM_DIR=\"$HOME/.nvm\" #  [ -s \"/usr',\n",
    "   'author': '김현기',\n",
    "   'imgUrl': 'http://cfile22.uf.tistory.com/image/167615394F33699B201C10',\n",
    "   'tags': ['zsh'],\n",
    "   'count': 2,\n",
    "   'postImage': '',\n",
    "   '_class': 'com.sarojaba.awesomedevblog.feed.Feed'}],\n",
    " 'total': [{'count': 32819}]}\n",
    " ```"
   ]
  },
  {
   "cell_type": "code",
   "execution_count": 8,
   "metadata": {},
   "outputs": [],
   "source": [
    "import requests, json"
   ]
  },
  {
   "cell_type": "code",
   "execution_count": 45,
   "metadata": {},
   "outputs": [],
   "source": [
    "def getPosts():\n",
    "    def getPost(page, size = 1):\n",
    "        url = 'https://awesome-devblog.now.sh/api/korean/people/feeds'\n",
    "        params = {\n",
    "            'sort': 'date.desc',\n",
    "            'page': page,\n",
    "            'size': size\n",
    "        }\n",
    "        res = requests.get(url, params = params)\n",
    "        post = res.json()\n",
    "        total = post['total'][0]['count']\n",
    "        print(f'page = {page * size} / total = {total}')\n",
    "        if page * size >= total: return post['data']\n",
    "        else: return post['data'] + getPost(page + 1, size)\n",
    "    return getPost(1, 5000)"
   ]
  },
  {
   "cell_type": "code",
   "execution_count": 44,
   "metadata": {},
   "outputs": [
    {
     "name": "stdout",
     "output_type": "stream",
     "text": [
      "1 5000\n",
      "2 5000\n",
      "3 5000\n",
      "4 5000\n",
      "5 5000\n",
      "6 5000\n",
      "7 5000\n"
     ]
    }
   ],
   "source": [
    "post = getPosts()"
   ]
  },
  {
   "cell_type": "code",
   "execution_count": 46,
   "metadata": {},
   "outputs": [
    {
     "data": {
      "text/plain": [
       "32819"
      ]
     },
     "execution_count": 46,
     "metadata": {},
     "output_type": "execute_result"
    }
   ],
   "source": [
    "len(post)"
   ]
  },
  {
   "cell_type": "code",
   "execution_count": 54,
   "metadata": {},
   "outputs": [
    {
     "data": {
      "text/plain": [
       "{'_id': '5dc95d3ad153f70004fb16ba',\n",
       " 'title': 'Good reads of the week #66 - 자아, 트위터의 정치 광고, VSCO 걸, 한국인 입양아에 대한 이야기들',\n",
       " 'link': 'https://brunch.co.kr/@@3SO/112',\n",
       " 'date': '2019-11-11T12:08:42.000Z',\n",
       " 'description': 'Good reads of the week(GROW) 은 제가 한 주간 읽은 글 중, 재미있었던 글을 몇 편 꼽아 공유드리는 프로젝트입니다.  2016년 1월 11일의 주 부터 최대한 매 주 공유드리려 합니다. 재미있게 읽어 주세요. [박진영의 사회심리학] 비대해진 자아는 자신을 위험에 빠뜨린다  자아 존중감, 자존감은 높을 수록 좋을까요? 아닐 수도 있습니',\n",
       " 'author': '지원준',\n",
       " 'imgUrl': 'http://icons.iconarchive.com/icons/custom-icon-design/silky-line-user/48/user-icon.png',\n",
       " 'tags': [],\n",
       " 'count': 0,\n",
       " 'postImage': '',\n",
       " '_class': 'com.sarojaba.awesomedevblog.feed.Feed'}"
      ]
     },
     "execution_count": 54,
     "metadata": {},
     "output_type": "execute_result"
    }
   ],
   "source": [
    "post[0]"
   ]
  },
  {
   "cell_type": "code",
   "execution_count": 47,
   "metadata": {},
   "outputs": [],
   "source": [
    "with open('posts.json', 'w') as outfile:\n",
    "    json.dump(post, outfile)"
   ]
  }
 ],
 "metadata": {
  "kernelspec": {
   "display_name": "dc",
   "language": "python",
   "name": "dc"
  },
  "language_info": {
   "codemirror_mode": {
    "name": "ipython",
    "version": 3
   },
   "file_extension": ".py",
   "mimetype": "text/x-python",
   "name": "python",
   "nbconvert_exporter": "python",
   "pygments_lexer": "ipython3",
   "version": "3.7.3"
  }
 },
 "nbformat": 4,
 "nbformat_minor": 2
}
