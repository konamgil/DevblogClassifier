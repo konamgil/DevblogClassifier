{
 "cells": [
  {
   "cell_type": "markdown",
   "metadata": {},
   "source": [
    "# 데이터 크롤링\n",
    "\n",
    "- [awesome-devblog : feeds](https://awesome-devblog.now.sh/api/korean/people/feeds)"
   ]
  },
  {
   "cell_type": "code",
   "execution_count": 97,
   "metadata": {},
   "outputs": [],
   "source": [
    "import requests, json\n",
    "import os, re\n",
    "from datetime import date\n",
    "import numpy as np"
   ]
  },
  {
   "cell_type": "code",
   "execution_count": 80,
   "metadata": {},
   "outputs": [
    {
     "name": "stdout",
     "output_type": "stream",
     "text": [
      "191113\n"
     ]
    }
   ],
   "source": [
    "today = date.today().strftime('%y%m%d')\n",
    "print(today)"
   ]
  },
  {
   "cell_type": "code",
   "execution_count": 81,
   "metadata": {},
   "outputs": [],
   "source": [
    "DATA_PATH = './data'\n",
    "POSTS_JSON_PATH = f'./data/{today}_posts.json'\n",
    "POSTS_TSV_PATH = f'./data/{today}_posts.tsv'"
   ]
  },
  {
   "cell_type": "code",
   "execution_count": 83,
   "metadata": {},
   "outputs": [],
   "source": [
    "def getPosts():\n",
    "    def getPost(page, size = 1):\n",
    "        url = 'https://awesome-devblog.now.sh/api/korean/people/feeds'\n",
    "        params = {\n",
    "            'sort': 'date.desc',\n",
    "            'page': page,\n",
    "            'size': size\n",
    "        }\n",
    "        res = requests.get(url, params = params)\n",
    "        post = res.json()\n",
    "        total = post['total'][0]['count']\n",
    "        if page * size <= total:\n",
    "            print(f'page = {page * size} / total = {total}')\n",
    "        else:\n",
    "            print('done!')\n",
    "        if page * size >= total: return post['data']\n",
    "        else: return post['data'] + getPost(page + 1, size)\n",
    "    return getPost(1, 5000)"
   ]
  },
  {
   "cell_type": "code",
   "execution_count": 84,
   "metadata": {},
   "outputs": [
    {
     "name": "stdout",
     "output_type": "stream",
     "text": [
      "page = 5000 / total = 32885\n",
      "page = 10000 / total = 32885\n",
      "page = 15000 / total = 32885\n",
      "page = 20000 / total = 32885\n",
      "page = 25000 / total = 32885\n",
      "page = 30000 / total = 32885\n",
      "done!\n"
     ]
    }
   ],
   "source": [
    "posts = getPosts()"
   ]
  },
  {
   "cell_type": "code",
   "execution_count": 85,
   "metadata": {},
   "outputs": [
    {
     "name": "stdout",
     "output_type": "stream",
     "text": [
      "total posts: 32885\n"
     ]
    }
   ],
   "source": [
    "print(f'total posts: {len(posts)}')"
   ]
  },
  {
   "cell_type": "code",
   "execution_count": 86,
   "metadata": {},
   "outputs": [
    {
     "data": {
      "text/plain": [
       "{'_id': '5dcbb939db47330004ff7d26',\n",
       " 'title': 'To-Do 리스트를 1달간 사용해본 후기',\n",
       " 'link': 'https://velog.io/@devjeon1358/To-Do-%EB%A6%AC%EC%8A%A4%ED%8A%B8%EB%A5%BC-1%EB%8B%AC%EA%B0%84-%EC%82%AC%EC%9A%A9%ED%95%B4%EB%B3%B8-%ED%9B%84%EA%B8%B0',\n",
       " 'date': '2019-11-13T07:11:02.860Z',\n",
       " 'description': '👀 왜 To-Do 리스트를 사용했나요? 위 질문에 대한 답은 제가 자주 잊어버리는 일들이 많아 To-Do 리스트를 사용해보기로 결정했습니다.   🤷\\u200d♂️ To-Do 리스트를 사용했던 방법 저는 백엔드 개발자로 클라이언트 개발자가 서버에 수정을 요청하거나, 이슈가 있을 때 잊어버리지 않도록 To-Do 리스트에 작성하였습니다.  또한 반드시 기한 내에 끝내',\n",
       " 'author': '전광용',\n",
       " 'imgUrl': 'http://icons.iconarchive.com/icons/custom-icon-design/silky-line-user/48/user-icon.png',\n",
       " 'tags': [],\n",
       " 'count': 0,\n",
       " 'postImage': '',\n",
       " '_class': 'com.sarojaba.awesomedevblog.feed.Feed'}"
      ]
     },
     "execution_count": 86,
     "metadata": {},
     "output_type": "execute_result"
    }
   ],
   "source": [
    "posts[0]"
   ]
  },
  {
   "cell_type": "markdown",
   "metadata": {},
   "source": [
    "### Convert to TSV\n",
    "- title, description, tag만 기록\n",
    "- title이나 description이 3글자 미만인 경우 제외\n",
    "- label 컬럼 추가(default 1)\n",
    " - 0 : IT 관련 글 아님\n",
    " - 1 : 완전 IT 글\n",
    " - 2 : 애매함..(향후 카테고리를 더 나누기 위한 글 : 알고리즘 / 조직, 문화 / 디자인)"
   ]
  },
  {
   "cell_type": "code",
   "execution_count": 87,
   "metadata": {},
   "outputs": [],
   "source": [
    "if not os.path.exists(DATA_PATH):\n",
    "    os.makedirs(DATA_PATH)"
   ]
  },
  {
   "cell_type": "code",
   "execution_count": 88,
   "metadata": {},
   "outputs": [],
   "source": [
    "with open(POSTS_JSON_PATH, 'w') as outfile:\n",
    "    json.dump(posts, outfile)"
   ]
  },
  {
   "cell_type": "code",
   "execution_count": 112,
   "metadata": {},
   "outputs": [
    {
     "name": "stdout",
     "output_type": "stream",
     "text": [
      "done\n"
     ]
    }
   ],
   "source": [
    "with open(POSTS_TSV_PATH, 'w') as f:\n",
    "    # title, description, tags만 수집\n",
    "    f.write('\\t'.join(['label', 'title', 'description', 'tags', 'link']))\n",
    "    f.write('\\n')\n",
    "    \n",
    "    for post in posts:\n",
    "        values = []\n",
    "        if len(post['title']) < 3: continue\n",
    "        if len(post['description']) < 3: continue\n",
    "        if len(post['link']) < 10: continue\n",
    "        title = re.sub('\\t', '', post['title'])\n",
    "        description = re.sub('\\t', '', post['description'])\n",
    "        tags = re.sub('\\t', '', ' '.join(post['tags']))\n",
    "        link = re.sub('\\t', '', post['link'])\n",
    "        f.write('\\t'.join(['1', title, description, tags, link]))\n",
    "        f.write('\\n')\n",
    "    print('done')"
   ]
  },
  {
   "cell_type": "code",
   "execution_count": null,
   "metadata": {},
   "outputs": [],
   "source": []
  }
 ],
 "metadata": {
  "kernelspec": {
   "display_name": "dc",
   "language": "python",
   "name": "dc"
  },
  "language_info": {
   "codemirror_mode": {
    "name": "ipython",
    "version": 3
   },
   "file_extension": ".py",
   "mimetype": "text/x-python",
   "name": "python",
   "nbconvert_exporter": "python",
   "pygments_lexer": "ipython3",
   "version": "3.7.3"
  }
 },
 "nbformat": 4,
 "nbformat_minor": 2
}
