{
 "cells": [
  {
   "cell_type": "code",
   "execution_count": 1,
   "metadata": {},
   "outputs": [
    {
     "name": "stderr",
     "output_type": "stream",
     "text": [
      "Using TensorFlow backend.\n"
     ]
    }
   ],
   "source": [
    "import os\n",
    "import pandas as pd\n",
    "import numpy as np\n",
    "from sklearn.model_selection import train_test_split\n",
    "from tensorflow.keras.layers import SimpleRNN, Embedding, Dense\n",
    "from tensorflow.keras.models import Sequential\n",
    "from keras import backend as K "
   ]
  },
  {
   "cell_type": "code",
   "execution_count": 31,
   "metadata": {},
   "outputs": [],
   "source": [
    "# Fast Text pretrained\n",
    "WIKI_KO_DATA = './data/cc.ko.300.bin.gz'\n",
    "\n",
    "# Fast Text Embedding 모델\n",
    "FT_EMBEDDING_PATH = f'./model/ft_embedding'\n",
    "\n",
    "# 학습 데이터\n",
    "DATA_PATH = './data/10000_data.tsv'\n",
    "\n",
    "# 최종 모델\n",
    "MODEL_PATH = './model/10000_doc_model.json'\n",
    "MODEL_WEIGHT_PATH = './model/10000_doc_model_weight.h5'"
   ]
  },
  {
   "cell_type": "code",
   "execution_count": 3,
   "metadata": {},
   "outputs": [],
   "source": [
    "if not os.path.exists('./model'):\n",
    "    os.makedirs('./model')"
   ]
  },
  {
   "cell_type": "markdown",
   "metadata": {},
   "source": [
    "### Gensim FastText\n",
    "- cc.ko.300.bin.gz : [Fast Text에서 제공하는 위키백과 한국어 데이터](https://fasttext.cc/docs/en/crawl-vectors.html)"
   ]
  },
  {
   "cell_type": "code",
   "execution_count": 4,
   "metadata": {},
   "outputs": [
    {
     "name": "stdout",
     "output_type": "stream",
     "text": [
      "trained model exist.\n",
      "model loaded\n"
     ]
    }
   ],
   "source": [
    "if os.path.isfile(FT_EMBEDDING_PATH):\n",
    "    # 학습된 파일이 있는 경우\n",
    "    print('trained model exist.')\n",
    "    from gensim.models import FastText\n",
    "    ko_model = FastText.load(FT_EMBEDDING_PATH)\n",
    "    print('model loaded')\n",
    "    \n",
    "else:\n",
    "    # 학습된 파일이 없는 경우\n",
    "    print('start to train')\n",
    "    from gensim import models\n",
    "    if os.path.isfile(WIKI_KO_DATA):\n",
    "        ko_model = models.fasttext.load_facebook_model(WIKI_KO_DATA)\n",
    "        ko_model.save(FT_EMBEDDING_PATH)\n",
    "        print('model saved')\n",
    "    else:\n",
    "        print('no wiki_ko_data. please download cc.ko.300.bin.gz from [https://fasttext.cc/docs/en/crawl-vectors.html]')"
   ]
  },
  {
   "cell_type": "code",
   "execution_count": 5,
   "metadata": {
    "scrolled": true
   },
   "outputs": [
    {
     "name": "stdout",
     "output_type": "stream",
     "text": [
      "Python: 0.565061628818512\n",
      "자이썬: 0.5624369382858276\n",
      "레일스: 0.5598082542419434\n",
      "파이썬을: 0.5595801472663879\n",
      "언어용: 0.5288202166557312\n",
      "파이썬의: 0.5250024795532227\n",
      "프로그래밍: 0.5225088000297546\n",
      "wxPython: 0.5222088098526001\n",
      "파이썬이나: 0.5201171636581421\n",
      "함수형: 0.5187377333641052\n"
     ]
    }
   ],
   "source": [
    "for w, sim in ko_model.wv.similar_by_word('파이썬', 10):\n",
    "    print(f'{w}: {sim}')"
   ]
  },
  {
   "cell_type": "code",
   "execution_count": 6,
   "metadata": {},
   "outputs": [
    {
     "name": "stdout",
     "output_type": "stream",
     "text": [
      "vocab size : 2000000\n"
     ]
    }
   ],
   "source": [
    "print(f'vocab size : {len(ko_model.wv.vocab)}')"
   ]
  },
  {
   "cell_type": "markdown",
   "metadata": {},
   "source": [
    "### Train Model"
   ]
  },
  {
   "cell_type": "code",
   "execution_count": 44,
   "metadata": {},
   "outputs": [
    {
     "data": {
      "text/html": [
       "<div>\n",
       "<style scoped>\n",
       "    .dataframe tbody tr th:only-of-type {\n",
       "        vertical-align: middle;\n",
       "    }\n",
       "\n",
       "    .dataframe tbody tr th {\n",
       "        vertical-align: top;\n",
       "    }\n",
       "\n",
       "    .dataframe thead th {\n",
       "        text-align: right;\n",
       "    }\n",
       "</style>\n",
       "<table border=\"1\" class=\"dataframe\">\n",
       "  <thead>\n",
       "    <tr style=\"text-align: right;\">\n",
       "      <th></th>\n",
       "      <th>label</th>\n",
       "      <th>sentence</th>\n",
       "    </tr>\n",
       "  </thead>\n",
       "  <tbody>\n",
       "    <tr>\n",
       "      <th>3515</th>\n",
       "      <td>1</td>\n",
       "      <td>새로운 언어 v를 소개합니다 v v라는 프로그래밍 언어가 새로 개발되었다고 들어서 ...</td>\n",
       "    </tr>\n",
       "    <tr>\n",
       "      <th>1989</th>\n",
       "      <td>1</td>\n",
       "      <td>vue spring boot jpa spring pododev pododevcom ...</td>\n",
       "    </tr>\n",
       "    <tr>\n",
       "      <th>3972</th>\n",
       "      <td>1</td>\n",
       "      <td>windows windows 관리자 권한에서 네트워크 드라이브가 안 보일 때 윈도우...</td>\n",
       "    </tr>\n",
       "    <tr>\n",
       "      <th>7329</th>\n",
       "      <td>1</td>\n",
       "      <td>python python sysgetrefcount reference count s...</td>\n",
       "    </tr>\n",
       "    <tr>\n",
       "      <th>8467</th>\n",
       "      <td>1</td>\n",
       "      <td>자바스크립트 개발자라면 알아야 할 33가지 개념 17 자바스크립트 클래스 vs 프로...</td>\n",
       "    </tr>\n",
       "  </tbody>\n",
       "</table>\n",
       "</div>"
      ],
      "text/plain": [
       "      label                                           sentence\n",
       "3515      1  새로운 언어 v를 소개합니다 v v라는 프로그래밍 언어가 새로 개발되었다고 들어서 ...\n",
       "1989      1  vue spring boot jpa spring pododev pododevcom ...\n",
       "3972      1  windows windows 관리자 권한에서 네트워크 드라이브가 안 보일 때 윈도우...\n",
       "7329      1  python python sysgetrefcount reference count s...\n",
       "8467      1  자바스크립트 개발자라면 알아야 할 33가지 개념 17 자바스크립트 클래스 vs 프로..."
      ]
     },
     "execution_count": 44,
     "metadata": {},
     "output_type": "execute_result"
    }
   ],
   "source": [
    "data = pd.read_csv(DATA_PATH, sep='\\t', usecols=['label', 'sentence'])\n",
    "data.sample(5)"
   ]
  },
  {
   "cell_type": "code",
   "execution_count": 45,
   "metadata": {
    "scrolled": true
   },
   "outputs": [
    {
     "data": {
      "text/plain": [
       "0       todo 리스트를 1달간 사용해본 후기 왜 todo 리스트를 사용했나요 위 질문에 ...\n",
       "1       양평 블룸비스타 콩순이 패밀리룸이 궁금하신분에게 드리는 후기 늦은 여름 휴가로 양평...\n",
       "2       javascript js 자바스크립트 문자열 메소드 javascript 문자열 메소...\n",
       "3       우리 시장에는 어떤 교육이 필요할까요 1 시장적합형 교육과 기술적합형 교육 며칠전 ...\n",
       "4       저 많은 국민은행 앱들은 대체 다 어디다 쓰는 걸까 대략 정리 구글플래이 스토어에서...\n",
       "                              ...                        \n",
       "9995    nginx rest kubernetes 164 kubernetes nginx ing...\n",
       "9996    git https javascript html web ui modal design ...\n",
       "9997    spring boot spring spring boot오류 처리에 대해 서론오류 처...\n",
       "9998    http3 http3 httpoverquic quic은 quick udp inter...\n",
       "9999    spring kotlin kotlin spring boot security thym...\n",
       "Name: sentence, Length: 10000, dtype: object"
      ]
     },
     "execution_count": 45,
     "metadata": {},
     "output_type": "execute_result"
    }
   ],
   "source": [
    "data.sentence"
   ]
  },
  {
   "cell_type": "code",
   "execution_count": 46,
   "metadata": {},
   "outputs": [
    {
     "name": "stderr",
     "output_type": "stream",
     "text": [
      "/Users/nero/.virtualenvs/dc/lib/python3.7/site-packages/ipykernel_launcher.py:6: DeprecationWarning: Call to deprecated `__getitem__` (Method will be removed in 4.0.0, use self.wv.__getitem__() instead).\n",
      "  \n"
     ]
    }
   ],
   "source": [
    "def sentenceToVector(sentence):\n",
    "    words = sentence.split(' ')\n",
    "    words_num = len(words)\n",
    "    vector = np.zeros(300) # ko_model shape가 300\n",
    "    for word in words:\n",
    "        vector += ko_model[word]\n",
    "    return vector/words_num\n",
    "data['vector'] = data.sentence.apply(sentenceToVector)"
   ]
  },
  {
   "cell_type": "code",
   "execution_count": 47,
   "metadata": {},
   "outputs": [],
   "source": [
    "def numberToOneHot(num):\n",
    "    oneHot = [0]*2\n",
    "    oneHot[num] = 1\n",
    "    return oneHot\n",
    "\n",
    "data['oneHot'] = data.label.apply(numberToOneHot)"
   ]
  },
  {
   "cell_type": "code",
   "execution_count": 48,
   "metadata": {
    "scrolled": true
   },
   "outputs": [
    {
     "data": {
      "text/html": [
       "<div>\n",
       "<style scoped>\n",
       "    .dataframe tbody tr th:only-of-type {\n",
       "        vertical-align: middle;\n",
       "    }\n",
       "\n",
       "    .dataframe tbody tr th {\n",
       "        vertical-align: top;\n",
       "    }\n",
       "\n",
       "    .dataframe thead th {\n",
       "        text-align: right;\n",
       "    }\n",
       "</style>\n",
       "<table border=\"1\" class=\"dataframe\">\n",
       "  <thead>\n",
       "    <tr style=\"text-align: right;\">\n",
       "      <th></th>\n",
       "      <th>label</th>\n",
       "      <th>sentence</th>\n",
       "      <th>vector</th>\n",
       "      <th>oneHot</th>\n",
       "    </tr>\n",
       "  </thead>\n",
       "  <tbody>\n",
       "    <tr>\n",
       "      <th>0</th>\n",
       "      <td>1</td>\n",
       "      <td>todo 리스트를 1달간 사용해본 후기 왜 todo 리스트를 사용했나요 위 질문에 ...</td>\n",
       "      <td>[0.013710441264420491, 0.0032995063650540692, ...</td>\n",
       "      <td>[0, 1]</td>\n",
       "    </tr>\n",
       "    <tr>\n",
       "      <th>1</th>\n",
       "      <td>0</td>\n",
       "      <td>양평 블룸비스타 콩순이 패밀리룸이 궁금하신분에게 드리는 후기 늦은 여름 휴가로 양평...</td>\n",
       "      <td>[0.00013062362416590355, -0.032540909874690126...</td>\n",
       "      <td>[1, 0]</td>\n",
       "    </tr>\n",
       "    <tr>\n",
       "      <th>2</th>\n",
       "      <td>1</td>\n",
       "      <td>javascript js 자바스크립트 문자열 메소드 javascript 문자열 메소...</td>\n",
       "      <td>[-0.04456514536979653, 0.00961365589007203, 0....</td>\n",
       "      <td>[0, 1]</td>\n",
       "    </tr>\n",
       "  </tbody>\n",
       "</table>\n",
       "</div>"
      ],
      "text/plain": [
       "   label                                           sentence  \\\n",
       "0      1  todo 리스트를 1달간 사용해본 후기 왜 todo 리스트를 사용했나요 위 질문에 ...   \n",
       "1      0  양평 블룸비스타 콩순이 패밀리룸이 궁금하신분에게 드리는 후기 늦은 여름 휴가로 양평...   \n",
       "2      1  javascript js 자바스크립트 문자열 메소드 javascript 문자열 메소...   \n",
       "\n",
       "                                              vector  oneHot  \n",
       "0  [0.013710441264420491, 0.0032995063650540692, ...  [0, 1]  \n",
       "1  [0.00013062362416590355, -0.032540909874690126...  [1, 0]  \n",
       "2  [-0.04456514536979653, 0.00961365589007203, 0....  [0, 1]  "
      ]
     },
     "execution_count": 48,
     "metadata": {},
     "output_type": "execute_result"
    }
   ],
   "source": [
    "data.head(3)"
   ]
  },
  {
   "cell_type": "code",
   "execution_count": 49,
   "metadata": {},
   "outputs": [
    {
     "data": {
      "text/plain": [
       "(300,)"
      ]
     },
     "execution_count": 49,
     "metadata": {},
     "output_type": "execute_result"
    }
   ],
   "source": [
    "data.vector[0].shape"
   ]
  },
  {
   "cell_type": "code",
   "execution_count": 50,
   "metadata": {},
   "outputs": [],
   "source": [
    "X_train, X_test, y_train, y_test = train_test_split(data.vector, data.label, test_size=0.33, random_state=321)"
   ]
  },
  {
   "cell_type": "code",
   "execution_count": 51,
   "metadata": {},
   "outputs": [],
   "source": [
    "def reshape(series, embedding_dim):\n",
    "    result = np.array(series.tolist())\n",
    "    result = result.reshape(result.shape[0], embedding_dim, 1)\n",
    "    return result"
   ]
  },
  {
   "cell_type": "code",
   "execution_count": 52,
   "metadata": {},
   "outputs": [
    {
     "name": "stdout",
     "output_type": "stream",
     "text": [
      "X_train shape = (6700, 300, 1) / X_test shape = (3300, 300, 1)\n"
     ]
    }
   ],
   "source": [
    "X_train = reshape(X_train, 300)\n",
    "X_test = reshape(X_test, 300)\n",
    "print(f'X_train shape = {X_train.shape} / X_test shape = {X_test.shape}')"
   ]
  },
  {
   "cell_type": "code",
   "execution_count": 53,
   "metadata": {},
   "outputs": [],
   "source": [
    "def recall_m(y_true, y_pred):\n",
    "        true_positives = K.sum(K.round(K.clip(y_true * y_pred, 0, 1)))\n",
    "        possible_positives = K.sum(K.round(K.clip(y_true, 0, 1)))\n",
    "        recall = true_positives / (possible_positives + K.epsilon())\n",
    "        return recall\n",
    "\n",
    "def precision_m(y_true, y_pred):\n",
    "        true_positives = K.sum(K.round(K.clip(y_true * y_pred, 0, 1)))\n",
    "        predicted_positives = K.sum(K.round(K.clip(y_pred, 0, 1)))\n",
    "        precision = true_positives / (predicted_positives + K.epsilon())\n",
    "        return precision\n",
    "\n",
    "def f1_m(y_true, y_pred):\n",
    "    precision = precision_m(y_true, y_pred)\n",
    "    recall = recall_m(y_true, y_pred)\n",
    "    return 2*((precision*recall)/(precision+recall+K.epsilon()))"
   ]
  },
  {
   "cell_type": "code",
   "execution_count": 24,
   "metadata": {
    "scrolled": true
   },
   "outputs": [
    {
     "name": "stdout",
     "output_type": "stream",
     "text": [
      "Train on 4690 samples, validate on 2010 samples\n",
      "Epoch 1/10\n",
      "4690/4690 [==============================] - 12s 2ms/sample - loss: 0.5997 - acc: 0.6932 - f1_m: 0.7857 - precision_m: 0.7027 - recall_m: 0.9206 - val_loss: 0.5674 - val_acc: 0.7264 - val_f1_m: 0.8332 - val_precision_m: 0.7167 - val_recall_m: 1.0000\n",
      "Epoch 2/10\n",
      "4690/4690 [==============================] - 11s 2ms/sample - loss: 0.5402 - acc: 0.7362 - f1_m: 0.8458 - precision_m: 0.7377 - recall_m: 0.9939 - val_loss: 0.5184 - val_acc: 0.7303 - val_f1_m: 0.8344 - val_precision_m: 0.7211 - val_recall_m: 0.9954\n",
      "Epoch 3/10\n",
      "4690/4690 [==============================] - 10s 2ms/sample - loss: 0.4978 - acc: 0.7593 - f1_m: 0.8537 - precision_m: 0.7664 - recall_m: 0.9669 - val_loss: 0.4870 - val_acc: 0.7657 - val_f1_m: 0.8485 - val_precision_m: 0.7570 - val_recall_m: 0.9712\n",
      "Epoch 4/10\n",
      "4690/4690 [==============================] - 12s 3ms/sample - loss: 0.4561 - acc: 0.7896 - f1_m: 0.8661 - precision_m: 0.8063 - recall_m: 0.9386 - val_loss: 0.5315 - val_acc: 0.7592 - val_f1_m: 0.8351 - val_precision_m: 0.7958 - val_recall_m: 0.8847\n",
      "Epoch 5/10\n",
      "4690/4690 [==============================] - 12s 3ms/sample - loss: 0.4573 - acc: 0.7866 - f1_m: 0.8647 - precision_m: 0.8020 - recall_m: 0.9400 - val_loss: 0.4677 - val_acc: 0.7846 - val_f1_m: 0.8519 - val_precision_m: 0.7979 - val_recall_m: 0.9213\n",
      "Epoch 6/10\n",
      "4690/4690 [==============================] - 10s 2ms/sample - loss: 0.4407 - acc: 0.7966 - f1_m: 0.8690 - precision_m: 0.8174 - recall_m: 0.9295 - val_loss: 0.4641 - val_acc: 0.7746 - val_f1_m: 0.8506 - val_precision_m: 0.7742 - val_recall_m: 0.9511\n",
      "Epoch 7/10\n",
      "4690/4690 [==============================] - 9s 2ms/sample - loss: 0.4350 - acc: 0.7945 - f1_m: 0.8678 - precision_m: 0.8174 - recall_m: 0.9281 - val_loss: 0.4474 - val_acc: 0.7975 - val_f1_m: 0.8603 - val_precision_m: 0.8148 - val_recall_m: 0.9176\n",
      "Epoch 8/10\n",
      "4690/4690 [==============================] - 10s 2ms/sample - loss: 0.4266 - acc: 0.8041 - f1_m: 0.8730 - precision_m: 0.8261 - recall_m: 0.9290 - val_loss: 0.4467 - val_acc: 0.7871 - val_f1_m: 0.8552 - val_precision_m: 0.7920 - val_recall_m: 0.9367\n",
      "Epoch 9/10\n",
      "4690/4690 [==============================] - 10s 2ms/sample - loss: 0.4225 - acc: 0.8045 - f1_m: 0.8738 - precision_m: 0.8262 - recall_m: 0.9298 - val_loss: 0.4349 - val_acc: 0.8005 - val_f1_m: 0.8621 - val_precision_m: 0.8052 - val_recall_m: 0.9352\n",
      "Epoch 10/10\n",
      "4690/4690 [==============================] - 9s 2ms/sample - loss: 0.4159 - acc: 0.8060 - f1_m: 0.8744 - precision_m: 0.8287 - recall_m: 0.9279 - val_loss: 0.4302 - val_acc: 0.8050 - val_f1_m: 0.8638 - val_precision_m: 0.8253 - val_recall_m: 0.9124\n"
     ]
    }
   ],
   "source": [
    "K.clear_session()\n",
    "\n",
    "model = Sequential()\n",
    "# model.add(Embedding(len(ko_model.wv.vocab), 300)) # 임베딩 벡터의 차원은 300 <- fast text쓰므로 안씀\n",
    "model.add(Dense(300, input_shape=(X_train.shape[1], 1), activation=\"relu\"))\n",
    "model.add(SimpleRNN(32))\n",
    "model.add(Dense(1, activation='sigmoid'))\n",
    "\n",
    "model.compile(optimizer='rmsprop', loss='binary_crossentropy', metrics=['acc', f1_m, precision_m, recall_m])\n",
    "history = model.fit(X_train, np.asarray(y_train), epochs=10, batch_size=100, validation_split=0.3)"
   ]
  },
  {
   "cell_type": "code",
   "execution_count": 25,
   "metadata": {},
   "outputs": [],
   "source": [
    "# evaluate the model\n",
    "loss, accuracy, f1_score, precision, recall = model.evaluate(X_test, np.asarray(y_test), verbose=0)"
   ]
  },
  {
   "cell_type": "code",
   "execution_count": 26,
   "metadata": {},
   "outputs": [
    {
     "name": "stdout",
     "output_type": "stream",
     "text": [
      "f1_score : 0.8873331546783447 / precision : 0.8541010618209839 / recall : 0.9279797077178955\n"
     ]
    }
   ],
   "source": [
    "print(f'f1_score : {f1_score} / precision : {precision} / recall : {recall}')"
   ]
  },
  {
   "cell_type": "code",
   "execution_count": 28,
   "metadata": {},
   "outputs": [
    {
     "data": {
      "image/png": "[encoded data removed]",
      "text/plain": [
       "<Figure size 432x288 with 2 Axes>"
      ]
     },
     "metadata": {
      "needs_background": "light"
     },
     "output_type": "display_data"
    }
   ],
   "source": [
    "import matplotlib.pyplot as plt\n",
    "\n",
    "fig, loss_ax = plt.subplots()\n",
    "acc_ax = loss_ax.twinx()\n",
    "\n",
    "acc_ax.plot(history.history['acc'], 'b', label='train acc')\n",
    "acc_ax.plot(history.history['val_acc'], 'g', label='val acc')\n",
    "acc_ax.set_ylabel('accuracy')\n",
    "acc_ax.legend(loc='upper left')\n",
    "\n",
    "plt.show()"
   ]
  },
  {
   "cell_type": "markdown",
   "metadata": {},
   "source": [
    "### Save Model"
   ]
  },
  {
   "cell_type": "code",
   "execution_count": 32,
   "metadata": {},
   "outputs": [],
   "source": [
    "# save model\n",
    "model_json = model.to_json()\n",
    "with open(MODEL_PATH, \"w\") as json_file : \n",
    "    json_file.write(model_json)"
   ]
  },
  {
   "cell_type": "code",
   "execution_count": 33,
   "metadata": {},
   "outputs": [],
   "source": [
    "# save weight\n",
    "model.save_weights(MODEL_WEIGHT_PATH)"
   ]
  },
  {
   "cell_type": "markdown",
   "metadata": {},
   "source": [
    "### Load Model"
   ]
  },
  {
   "cell_type": "code",
   "execution_count": 36,
   "metadata": {},
   "outputs": [],
   "source": [
    "from tensorflow.keras.models import model_from_json\n",
    "# load model\n",
    "json_file = open(MODEL_PATH, \"r\")\n",
    "loaded_model_json = json_file.read()\n",
    "json_file.close()\n",
    "loaded_model = model_from_json(loaded_model_json)"
   ]
  },
  {
   "cell_type": "code",
   "execution_count": 37,
   "metadata": {},
   "outputs": [],
   "source": [
    "# load weight\n",
    "loaded_model.load_weights(MODEL_WEIGHT_PATH)"
   ]
  },
  {
   "cell_type": "code",
   "execution_count": 54,
   "metadata": {},
   "outputs": [
    {
     "name": "stdout",
     "output_type": "stream",
     "text": [
      "acc : 81.30%\n"
     ]
    }
   ],
   "source": [
    "# loaded_model.compile(loss=\"binary_crossentropy\", optimizer=\"rmsprop\", metrics=['accuracy'])\n",
    "loaded_model.compile(optimizer='rmsprop', loss='binary_crossentropy', metrics=['acc', f1_m, precision_m, recall_m])\n",
    "# model evaluation\n",
    "score = loaded_model.evaluate(X_train, np.asarray(y_train), verbose=0)\n",
    "\n",
    "print(\"%s : %.2f%%\" % (loaded_model.metrics_names[1], score[1]*100))"
   ]
  },
  {
   "cell_type": "markdown",
   "metadata": {},
   "source": [
    "### Load Embedding Model"
   ]
  },
  {
   "cell_type": "code",
   "execution_count": 66,
   "metadata": {},
   "outputs": [],
   "source": [
    "from gensim.models import FastText\n",
    "embedding = FastText.load(FT_EMBEDDING_PATH)"
   ]
  },
  {
   "cell_type": "markdown",
   "metadata": {},
   "source": [
    "### Predict"
   ]
  },
  {
   "cell_type": "code",
   "execution_count": 106,
   "metadata": {},
   "outputs": [],
   "source": [
    "from bs4 import BeautifulSoup\n",
    "import re\n",
    "\n",
    "# Preprocess\n",
    "def preprocess(x):\n",
    "    # html tag 삭제\n",
    "    x = BeautifulSoup(x, \"html.parser\").get_text()\n",
    "    \n",
    "    # 소문자로 변경\n",
    "    x = x.lower()\n",
    "    \n",
    "    # 영어, 숫자, 한글, 띄어쓰기만 남기기\n",
    "    x = re.sub('[^가-힣\\sa-zA-Z0-9]', '', x)\n",
    "    \n",
    "    # 띄어쓰기 1개로 줄이기\n",
    "    x = re.sub('\\s{2,}', ' ', x)\n",
    "    \n",
    "    # 앞뒤 공백 제거\n",
    "    x = x.strip()\n",
    "    \n",
    "    return x"
   ]
  },
  {
   "cell_type": "code",
   "execution_count": 107,
   "metadata": {},
   "outputs": [],
   "source": [
    "# Embedding\n",
    "def sentenceToVector(embedding, sentence):\n",
    "    words = sentence.split(' ')\n",
    "    words_num = len(words)\n",
    "    vector = np.zeros(300) # ko_model shape가 300\n",
    "    for word in words:\n",
    "        vector += embedding[word]\n",
    "    return vector/words_num"
   ]
  },
  {
   "cell_type": "code",
   "execution_count": 115,
   "metadata": {},
   "outputs": [],
   "source": [
    "# Reshape\n",
    "def reshape(embedding, arr):\n",
    "    result = np.array(arr)\n",
    "    result = result.reshape(1, embedding.wv.vector_size, 1)\n",
    "    return result"
   ]
  },
  {
   "cell_type": "code",
   "execution_count": 144,
   "metadata": {},
   "outputs": [
    {
     "name": "stderr",
     "output_type": "stream",
     "text": [
      "/Users/nero/.virtualenvs/dc/lib/python3.7/site-packages/ipykernel_launcher.py:7: DeprecationWarning: Call to deprecated `__getitem__` (Method will be removed in 4.0.0, use self.wv.__getitem__() instead).\n",
      "  import sys\n"
     ]
    },
    {
     "data": {
      "text/plain": [
       "(1, 300, 1)"
      ]
     },
     "execution_count": 144,
     "metadata": {},
     "output_type": "execute_result"
    }
   ],
   "source": [
    "sample = \"[ 제주 표선 맛집 ] 메밀밭에 가시리 - 아이와 가기 좋은 식당 >> 클릭으로 블로그 구독하기 << 안녕하세요, 동글엄마예요^^표선에 있는 말선 명품 제주 농원에서 귤따기 체험을 하고2019/11/14 - [ 제주 아이와 가볼만 한 곳 ] 말선 명품 제주 농원 - 감귤 따기 체험노창래 농부님 추천받아 농원 근처에서 저녁식사를 하게 되었어요.동글이가 잠들지 않았다면..가보지 못했을 곳인데 푸욱 잠들었던 동글이덕에 저녁식\"\n",
    "sample = preprocess(sample)\n",
    "sample = sentenceToVector(embedding, sample)\n",
    "sample = reshape(embedding, sample)\n",
    "sample.shape"
   ]
  },
  {
   "cell_type": "code",
   "execution_count": 145,
   "metadata": {
    "scrolled": true
   },
   "outputs": [],
   "source": [
    "confidence = loaded_model.predict(sample)[0][0]"
   ]
  },
  {
   "cell_type": "code",
   "execution_count": 146,
   "metadata": {},
   "outputs": [
    {
     "name": "stdout",
     "output_type": "stream",
     "text": [
      "10% 확신으로 IT 글이 아닙니다.\n"
     ]
    }
   ],
   "source": [
    "import math\n",
    "if confidence > 0.5:\n",
    "    print(f'{math.ceil(confidence * 100)}% 확신으로 IT 글입니다.')\n",
    "else:\n",
    "    print(f'{math.ceil(confidence * 100)}% 확신으로 IT 글이 아닙니다.')"
   ]
  },
  {
   "cell_type": "code",
   "execution_count": null,
   "metadata": {},
   "outputs": [],
   "source": []
  }
 ],
 "metadata": {
  "kernelspec": {
   "display_name": "dc",
   "language": "python",
   "name": "dc"
  },
  "language_info": {
   "codemirror_mode": {
    "name": "ipython",
    "version": 3
   },
   "file_extension": ".py",
   "mimetype": "text/x-python",
   "name": "python",
   "nbconvert_exporter": "python",
   "pygments_lexer": "ipython3",
   "version": "3.7.3"
  }
 },
 "nbformat": 4,
 "nbformat_minor": 2
}
