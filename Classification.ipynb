{
 "cells": [
  {
   "cell_type": "code",
   "execution_count": 1,
   "metadata": {},
   "outputs": [],
   "source": [
    "import os\n",
    "import pandas as pd\n",
    "import numpy as np"
   ]
  },
  {
   "cell_type": "code",
   "execution_count": 13,
   "metadata": {},
   "outputs": [
    {
     "name": "stdout",
     "output_type": "stream",
     "text": [
      "191119\n"
     ]
    }
   ],
   "source": [
    "from datetime import date\n",
    "today = date.today().strftime('%y%m%d')\n",
    "print(today)"
   ]
  },
  {
   "cell_type": "code",
   "execution_count": 96,
   "metadata": {},
   "outputs": [],
   "source": [
    "WIKI_KO_DATA = './data/cc.ko.300.bin.gz'\n",
    "KO_MODEL_PATH = f'./model/{today}_ko_model'\n",
    "TRAINED_KO_MODEL = './model/191119_ko_model'\n",
    "DATA_PATH = './data/10000_data.tsv'\n",
    "MODEL_PATH = './model/10000_doc_model'"
   ]
  },
  {
   "cell_type": "code",
   "execution_count": 15,
   "metadata": {},
   "outputs": [],
   "source": [
    "if not os.path.exists('./model'):\n",
    "    os.makedirs('./model')"
   ]
  },
  {
   "cell_type": "markdown",
   "metadata": {},
   "source": [
    "### Gensim FastText\n",
    "- cc.ko.300.bin.gz : [Fast Text에서 제공하는 위키백과 한국어 데이터](https://fasttext.cc/docs/en/crawl-vectors.html)"
   ]
  },
  {
   "cell_type": "code",
   "execution_count": 5,
   "metadata": {},
   "outputs": [
    {
     "name": "stdout",
     "output_type": "stream",
     "text": [
      "trained model exist\n"
     ]
    }
   ],
   "source": [
    "if os.path.isfile(TRAINED_KO_MODEL):\n",
    "    # 학습된 파일이 있는 경우\n",
    "    print('trained model exist.')\n",
    "    from gensim.models import FastText\n",
    "    ko_model = FastText.load(TRAINED_KO_MODEL)\n",
    "    print('model loadedß')\n",
    "    \n",
    "else:\n",
    "    # 학습된 파일이 없는 경우\n",
    "    print('start to train')\n",
    "    from gensim import models\n",
    "    if os.path.isfile(WIKI_KO_DATA):\n",
    "        ko_model = models.fasttext.load_facebook_model(WIKI_KO_DATA)\n",
    "        ko_model.save(KO_MODEL_PATH)\n",
    "        print('model saved')\n",
    "    else:\n",
    "        print('no wiki_ko_data. please download cc.ko.300.bin.gz from [https://fasttext.cc/docs/en/crawl-vectors.html]')"
   ]
  },
  {
   "cell_type": "code",
   "execution_count": 8,
   "metadata": {
    "scrolled": true
   },
   "outputs": [
    {
     "name": "stdout",
     "output_type": "stream",
     "text": [
      "Python: 0.565061628818512\n",
      "자이썬: 0.5624369382858276\n",
      "레일스: 0.5598082542419434\n",
      "파이썬을: 0.5595801472663879\n",
      "언어용: 0.5288202166557312\n",
      "파이썬의: 0.5250024795532227\n",
      "프로그래밍: 0.5225088000297546\n",
      "wxPython: 0.5222088098526001\n",
      "파이썬이나: 0.5201171636581421\n",
      "함수형: 0.5187377333641052\n"
     ]
    }
   ],
   "source": [
    "for w, sim in ko_model.wv.similar_by_word('파이썬', 10):\n",
    "    print(f'{w}: {sim}')"
   ]
  },
  {
   "cell_type": "code",
   "execution_count": 21,
   "metadata": {},
   "outputs": [
    {
     "name": "stdout",
     "output_type": "stream",
     "text": [
      "vocab size : 2000000\n"
     ]
    }
   ],
   "source": [
    "print(f'vocab size : {len(ko_model.wv.vocab)}')"
   ]
  },
  {
   "cell_type": "code",
   "execution_count": 22,
   "metadata": {},
   "outputs": [
    {
     "data": {
      "text/html": [
       "<div>\n",
       "<style scoped>\n",
       "    .dataframe tbody tr th:only-of-type {\n",
       "        vertical-align: middle;\n",
       "    }\n",
       "\n",
       "    .dataframe tbody tr th {\n",
       "        vertical-align: top;\n",
       "    }\n",
       "\n",
       "    .dataframe thead th {\n",
       "        text-align: right;\n",
       "    }\n",
       "</style>\n",
       "<table border=\"1\" class=\"dataframe\">\n",
       "  <thead>\n",
       "    <tr style=\"text-align: right;\">\n",
       "      <th></th>\n",
       "      <th>label</th>\n",
       "      <th>sentence</th>\n",
       "    </tr>\n",
       "  </thead>\n",
       "  <tbody>\n",
       "    <tr>\n",
       "      <th>3054</th>\n",
       "      <td>1</td>\n",
       "      <td>blockchain 블록체인 아이덴티티 자주적신원 blockchain and ide...</td>\n",
       "    </tr>\n",
       "    <tr>\n",
       "      <th>8650</th>\n",
       "      <td>1</td>\n",
       "      <td>java algorithm 새로 나온 자바 11 12 자바 gc 알고리즘 자바11e...</td>\n",
       "    </tr>\n",
       "    <tr>\n",
       "      <th>8386</th>\n",
       "      <td>1</td>\n",
       "      <td>android android jetpack constraintlayout const...</td>\n",
       "    </tr>\n",
       "    <tr>\n",
       "      <th>1199</th>\n",
       "      <td>1</td>\n",
       "      <td>golang pdf 문서 생성하는 gofpdf 라이브러리 알아보기 오늘은 golan...</td>\n",
       "    </tr>\n",
       "    <tr>\n",
       "      <th>8217</th>\n",
       "      <td>0</td>\n",
       "      <td>내가 겪은 미국에서 한류 강남스타일부터 bts 그리고 baby shark까지 미국에...</td>\n",
       "    </tr>\n",
       "  </tbody>\n",
       "</table>\n",
       "</div>"
      ],
      "text/plain": [
       "      label                                           sentence\n",
       "3054      1  blockchain 블록체인 아이덴티티 자주적신원 blockchain and ide...\n",
       "8650      1  java algorithm 새로 나온 자바 11 12 자바 gc 알고리즘 자바11e...\n",
       "8386      1  android android jetpack constraintlayout const...\n",
       "1199      1  golang pdf 문서 생성하는 gofpdf 라이브러리 알아보기 오늘은 golan...\n",
       "8217      0  내가 겪은 미국에서 한류 강남스타일부터 bts 그리고 baby shark까지 미국에..."
      ]
     },
     "execution_count": 22,
     "metadata": {},
     "output_type": "execute_result"
    }
   ],
   "source": [
    "data = pd.read_csv(DATA_PATH, sep='\\t', usecols=['label', 'sentence'])\n",
    "data.sample(5)"
   ]
  },
  {
   "cell_type": "code",
   "execution_count": 23,
   "metadata": {
    "scrolled": true
   },
   "outputs": [
    {
     "data": {
      "text/plain": [
       "0       todo 리스트를 1달간 사용해본 후기 왜 todo 리스트를 사용했나요 위 질문에 ...\n",
       "1       양평 블룸비스타 콩순이 패밀리룸이 궁금하신분에게 드리는 후기 늦은 여름 휴가로 양평...\n",
       "2       javascript js 자바스크립트 문자열 메소드 javascript 문자열 메소...\n",
       "3       우리 시장에는 어떤 교육이 필요할까요 1 시장적합형 교육과 기술적합형 교육 며칠전 ...\n",
       "4       저 많은 국민은행 앱들은 대체 다 어디다 쓰는 걸까 대략 정리 구글플래이 스토어에서...\n",
       "5       java java 8 람다 표현식과 주의 사항 안녕하세요 오늘부터는 java8에 관...\n",
       "6       cache 16장 트랜잭션과 락 2차 캐시 현업에서 주문 결제 등등 민감한 데이터를...\n",
       "7       swift lets swift 2019에 다녀왔습니다 1년에 한번 있는 ios개발자...\n",
       "8       건설 현장 안전관리를 위한 iot 기반의 위험구역 경보 시스템 마침 지금 개발하는 ...\n",
       "9       kstartup 그랜드챌린지ksgc 오픈하우스 행사와 참가기업 kstartup gr...\n",
       "10      intellij 실행시 최근 종료한 프로젝트 바로 실행되지 않게 하기 intelli...\n",
       "11      git 20191112 til with brumm 1 git repository 생...\n",
       "12      golang timed rate limiter gorate 라이브러리 알아보기 오늘...\n",
       "13      javascript 모던자바스크립트 25 심볼 타입 이 글은 번역 및 정리 글입니다...\n",
       "14       마지막 7개월 초심 잃지 말자 방통대 졸업 정보처리기사 실기 msa인프라 포스팅 살빼기\n",
       "15      cc 언어 및 코딩 관련 이야기 1 문법 함정 cc에서 연산자로 쓰이는 토큰문자들 ...\n",
       "16      oracle oracle 오라클 insert문 사용법 예제 adsense1 disp...\n",
       "17      김포공항김포국제공항 주차장 이용에 대한 주차비 비교 분석 최저가 꿀팁 공유 클릭으로...\n",
       "18      linux linux squid 를 이용한 proxy 서버 구성 linux squi...\n",
       "19      이미지 분류 모델의 구성 레이어에 대한 결과값 시각화 이미지에 대한 classifi...\n",
       "20                           ideavim 설정하기 이거라도 쓰는 수 밖에 없다\n",
       "21      react props state 시작하기 안녕하세요 오늘은 backend 관련 글이...\n",
       "22      개발 일지 2019년 10월 sshfs sshfs로 원격 서버 폴더를 마운트하기에서...\n",
       "23      https 회로이론 테브난 등가변환 예제풀이 2 유튜브 유튜브를 시작한지 일주일 정...\n",
       "24      oracle oracle 오라클 select문 사용법 에제 adsense1 disp...\n",
       "25      에세이 어른 대접하지 않을 어른 잘못을 변호하던지 인정하던지 분노하지 말고 한 회사...\n",
       "26      지식의 홍수에서 살아남는 방법 배우고 익혀야 할 것들은 산더미처럼 많은데 시간은 아...\n",
       "27      python 사과문 저작권 위법 사과문 안녕하세요 이수진입니다 제 블로그 machi...\n",
       "28      paper staring into the abyss an evaluation of ...\n",
       "29      https python smtplibsmtpauthenticationerror 53...\n",
       "                              ...                        \n",
       "9970    linux algorithm python 파이썬으로 알고리즘 자료구조 공부하기 트리...\n",
       "9971    ios 오토레이아웃 scrollview stackview 오토레이아웃 autolay...\n",
       "9972    boj 15961 회전 초밥 슬라이딩 윈도우 숏코드에 맛들렸는데 이 문제 풀면서 전...\n",
       "9973    마법의 심리테스트 1 셀프 테스팅 지금껏 몰랐던 진짜 나를 만나다 국내 도서 시에세...\n",
       "9974    slack python slack api 발급받아 python으로 활용하기 slac...\n",
       "9975    4차산업혁명을 맞이하는 스마트공장오토메이션월드 2019에 다녀왔습니다 안녕하세요 사...\n",
       "9976    angular 하이브리드앱 개발 1 ionic framework 개발환경 구축 io...\n",
       "9977    축전기 속의 유전체 축전기 capacitor 축전기capacitor 커패시터는 전하...\n",
       "9978    spring springboot 에서 test code 작성하기 1편 통합테스트 a...\n",
       "9979    spring springboot 에서 test code 작성하기 3편 assetth...\n",
       "9980    git til git archive 명령을 사용해 git 파일을 제외한채 서버에 배...\n",
       "9981    c configr 개요 scripts와 roslyn을 사용하여 스크립트 방식의 설정...\n",
       "9982    미국의 마켓컬리굿에그 오늘 마켓컬리의 1000억원 투자유치 뉴스가 있었다 밤 11시...\n",
       "9983    java soft reference object soft reference 에 관련...\n",
       "9984    git linux windows mingw 설치하기 with gcc and git ...\n",
       "9985    개비스콘 짤 생성기 포스트모템 사실 이 주제로 포스트를 작성할 계획은 전혀 없었습니...\n",
       "9986    python 젠킨스jenkins에서 파이썬 가상환경venv 세팅 가이드 feat p...\n",
       "9987    python 젠킨스jenkins에서 파이썬 가상환경venv 세팅 가이드 feat p...\n",
       "9988    css combinators결합자 마이구미 styledisplayblock data...\n",
       "9989    spring spring boot s3 local에서 test하기 spring bo...\n",
       "9990    spring spring boot s3 local에서 test하기 spring bo...\n",
       "9991    git linux linux ssh 설정 꽤나 오래 전에 git ssh 설정에 대해...\n",
       "9992    docker docker 자주쓰는 options 개인적으로 docker run 시에...\n",
       "9993    xmos 음성 모듈 개발 시작 다시시작 이미 작년에 마무리돼야 할 프로젝트였는데 계...\n",
       "9994    개발자 인생 회고 2 올라운드 플레이어라고 쓰고 잡부라 읽는다 그렇게 들어간 b사는...\n",
       "9995    nginx rest kubernetes 164 kubernetes nginx ing...\n",
       "9996    git https javascript html web ui modal design ...\n",
       "9997    spring boot spring spring boot오류 처리에 대해 서론오류 처...\n",
       "9998    http3 http3 httpoverquic quic은 quick udp inter...\n",
       "9999    spring kotlin kotlin spring boot security thym...\n",
       "Name: sentence, Length: 10000, dtype: object"
      ]
     },
     "execution_count": 23,
     "metadata": {},
     "output_type": "execute_result"
    }
   ],
   "source": [
    "data.sentence"
   ]
  },
  {
   "cell_type": "code",
   "execution_count": 24,
   "metadata": {},
   "outputs": [
    {
     "name": "stderr",
     "output_type": "stream",
     "text": [
      "/Users/apple/.virtualenvs/ml/lib/python3.7/site-packages/ipykernel_launcher.py:6: DeprecationWarning: Call to deprecated `__getitem__` (Method will be removed in 4.0.0, use self.wv.__getitem__() instead).\n",
      "  \n"
     ]
    }
   ],
   "source": [
    "def sentenceToVector(sentence):\n",
    "    words = sentence.split(' ')\n",
    "    words_num = len(words)\n",
    "    vector = np.zeros(300) # ko_model shape가 300\n",
    "    for word in words:\n",
    "        vector += ko_model[word]\n",
    "    return vector/words_num\n",
    "data['vector'] = data.sentence.apply(sentenceToVector)"
   ]
  },
  {
   "cell_type": "code",
   "execution_count": 26,
   "metadata": {},
   "outputs": [],
   "source": [
    "def numberToOneHot(num):\n",
    "    oneHot = [0]*2\n",
    "    oneHot[num] = 1\n",
    "    return oneHot\n",
    "\n",
    "data['oneHot'] = data.label.apply(numberToOneHot)"
   ]
  },
  {
   "cell_type": "code",
   "execution_count": 27,
   "metadata": {
    "scrolled": true
   },
   "outputs": [
    {
     "data": {
      "text/html": [
       "<div>\n",
       "<style scoped>\n",
       "    .dataframe tbody tr th:only-of-type {\n",
       "        vertical-align: middle;\n",
       "    }\n",
       "\n",
       "    .dataframe tbody tr th {\n",
       "        vertical-align: top;\n",
       "    }\n",
       "\n",
       "    .dataframe thead th {\n",
       "        text-align: right;\n",
       "    }\n",
       "</style>\n",
       "<table border=\"1\" class=\"dataframe\">\n",
       "  <thead>\n",
       "    <tr style=\"text-align: right;\">\n",
       "      <th></th>\n",
       "      <th>label</th>\n",
       "      <th>sentence</th>\n",
       "      <th>vector</th>\n",
       "      <th>oneHot</th>\n",
       "    </tr>\n",
       "  </thead>\n",
       "  <tbody>\n",
       "    <tr>\n",
       "      <th>0</th>\n",
       "      <td>1</td>\n",
       "      <td>todo 리스트를 1달간 사용해본 후기 왜 todo 리스트를 사용했나요 위 질문에 ...</td>\n",
       "      <td>[0.013710441264420491, 0.0032995063650540692, ...</td>\n",
       "      <td>[0, 1]</td>\n",
       "    </tr>\n",
       "    <tr>\n",
       "      <th>1</th>\n",
       "      <td>0</td>\n",
       "      <td>양평 블룸비스타 콩순이 패밀리룸이 궁금하신분에게 드리는 후기 늦은 여름 휴가로 양평...</td>\n",
       "      <td>[0.00013062362416590355, -0.032540909874690126...</td>\n",
       "      <td>[1, 0]</td>\n",
       "    </tr>\n",
       "    <tr>\n",
       "      <th>2</th>\n",
       "      <td>1</td>\n",
       "      <td>javascript js 자바스크립트 문자열 메소드 javascript 문자열 메소...</td>\n",
       "      <td>[-0.04456514536979653, 0.00961365589007203, 0....</td>\n",
       "      <td>[0, 1]</td>\n",
       "    </tr>\n",
       "  </tbody>\n",
       "</table>\n",
       "</div>"
      ],
      "text/plain": [
       "   label                                           sentence  \\\n",
       "0      1  todo 리스트를 1달간 사용해본 후기 왜 todo 리스트를 사용했나요 위 질문에 ...   \n",
       "1      0  양평 블룸비스타 콩순이 패밀리룸이 궁금하신분에게 드리는 후기 늦은 여름 휴가로 양평...   \n",
       "2      1  javascript js 자바스크립트 문자열 메소드 javascript 문자열 메소...   \n",
       "\n",
       "                                              vector  oneHot  \n",
       "0  [0.013710441264420491, 0.0032995063650540692, ...  [0, 1]  \n",
       "1  [0.00013062362416590355, -0.032540909874690126...  [1, 0]  \n",
       "2  [-0.04456514536979653, 0.00961365589007203, 0....  [0, 1]  "
      ]
     },
     "execution_count": 27,
     "metadata": {},
     "output_type": "execute_result"
    }
   ],
   "source": [
    "data.head(3)"
   ]
  },
  {
   "cell_type": "code",
   "execution_count": 41,
   "metadata": {},
   "outputs": [
    {
     "data": {
      "text/plain": [
       "(300,)"
      ]
     },
     "execution_count": 41,
     "metadata": {},
     "output_type": "execute_result"
    }
   ],
   "source": [
    "data.vector[0].shape"
   ]
  },
  {
   "cell_type": "code",
   "execution_count": 90,
   "metadata": {},
   "outputs": [],
   "source": [
    "from sklearn.model_selection import train_test_split\n",
    "X_train, X_test, y_train, y_test = train_test_split(data.vector, data.label, test_size=0.33, random_state=321)"
   ]
  },
  {
   "cell_type": "code",
   "execution_count": 91,
   "metadata": {},
   "outputs": [
    {
     "name": "stdout",
     "output_type": "stream",
     "text": [
      "(6700, 300)\n",
      "(6700, 300, 1)\n"
     ]
    }
   ],
   "source": [
    "X_train = pd.DataFrame(X_train)\n",
    "X_train = np.array(X_train['vector'].tolist())\n",
    "print(X_train.shape)\n",
    "X_train = X_train.reshape(X_train.shape[0], 300, 1)\n",
    "print(X_train.shape)"
   ]
  },
  {
   "cell_type": "code",
   "execution_count": 92,
   "metadata": {},
   "outputs": [
    {
     "name": "stdout",
     "output_type": "stream",
     "text": [
      "(3300, 300)\n",
      "(3300, 300, 1)\n"
     ]
    }
   ],
   "source": [
    "X_test = pd.DataFrame(X_test)\n",
    "X_test = np.array(X_test['vector'].tolist())\n",
    "print(X_test.shape)\n",
    "X_test = X_test.reshape(X_test.shape[0], 300, 1)\n",
    "print(X_test.shape)"
   ]
  },
  {
   "cell_type": "code",
   "execution_count": 35,
   "metadata": {},
   "outputs": [],
   "source": [
    "from tensorflow.keras.layers import SimpleRNN, Embedding, Dense\n",
    "from tensorflow.keras.models import Sequential"
   ]
  },
  {
   "cell_type": "code",
   "execution_count": 95,
   "metadata": {
    "scrolled": true
   },
   "outputs": [
    {
     "name": "stderr",
     "output_type": "stream",
     "text": [
      "Using TensorFlow backend.\n",
      "W1119 11:57:32.391843 4538258880 deprecation_wrapper.py:119] From /Users/apple/.virtualenvs/ml/lib/python3.7/site-packages/keras/backend/tensorflow_backend.py:95: The name tf.reset_default_graph is deprecated. Please use tf.compat.v1.reset_default_graph instead.\n",
      "\n",
      "W1119 11:57:32.393152 4538258880 deprecation_wrapper.py:119] From /Users/apple/.virtualenvs/ml/lib/python3.7/site-packages/keras/backend/tensorflow_backend.py:98: The name tf.placeholder_with_default is deprecated. Please use tf.compat.v1.placeholder_with_default instead.\n",
      "\n",
      "W1119 11:57:32.395328 4538258880 deprecation_wrapper.py:119] From /Users/apple/.virtualenvs/ml/lib/python3.7/site-packages/keras/backend/tensorflow_backend.py:102: The name tf.get_default_graph is deprecated. Please use tf.compat.v1.get_default_graph instead.\n",
      "\n"
     ]
    },
    {
     "name": "stdout",
     "output_type": "stream",
     "text": [
      "Train on 4690 samples, validate on 2010 samples\n",
      "Epoch 1/10\n",
      "4690/4690 [==============================] - 8s 2ms/sample - loss: 0.5756 - acc: 0.7232 - val_loss: 0.5453 - val_acc: 0.7264\n",
      "Epoch 2/10\n",
      "4690/4690 [==============================] - 8s 2ms/sample - loss: 0.5052 - acc: 0.7546 - val_loss: 0.4876 - val_acc: 0.7682\n",
      "Epoch 3/10\n",
      "4690/4690 [==============================] - 8s 2ms/sample - loss: 0.4590 - acc: 0.7855 - val_loss: 0.4634 - val_acc: 0.7731\n",
      "Epoch 4/10\n",
      "4690/4690 [==============================] - 8s 2ms/sample - loss: 0.4377 - acc: 0.7964 - val_loss: 0.5314 - val_acc: 0.7468\n",
      "Epoch 5/10\n",
      "4690/4690 [==============================] - 8s 2ms/sample - loss: 0.4351 - acc: 0.8002 - val_loss: 0.4939 - val_acc: 0.7647\n",
      "Epoch 6/10\n",
      "4690/4690 [==============================] - 8s 2ms/sample - loss: 0.4332 - acc: 0.7987 - val_loss: 0.4706 - val_acc: 0.7746\n",
      "Epoch 7/10\n",
      "4690/4690 [==============================] - 8s 2ms/sample - loss: 0.4207 - acc: 0.8047 - val_loss: 0.4510 - val_acc: 0.7811\n",
      "Epoch 8/10\n",
      "4690/4690 [==============================] - 8s 2ms/sample - loss: 0.4129 - acc: 0.8156 - val_loss: 0.4691 - val_acc: 0.7841\n",
      "Epoch 9/10\n",
      "4690/4690 [==============================] - 8s 2ms/sample - loss: 0.4067 - acc: 0.8136 - val_loss: 0.4439 - val_acc: 0.7925\n",
      "Epoch 10/10\n",
      "4690/4690 [==============================] - 8s 2ms/sample - loss: 0.4051 - acc: 0.8100 - val_loss: 0.5098 - val_acc: 0.7522\n"
     ]
    }
   ],
   "source": [
    "from keras import backend as K \n",
    "K.clear_session()\n",
    "\n",
    "model = Sequential()\n",
    "# model.add(Embedding(len(ko_model.wv.vocab), 300)) # 임베딩 벡터의 차원은 300 <- fast text 쓰기 위해서 안씀\n",
    "model.add(Dense(300, input_shape=(X_train.shape[1], 1), activation=\"relu\"))\n",
    "model.add(SimpleRNN(32)) # RNN 셀의 hidden_size는 32\n",
    "model.add(Dense(1, activation='sigmoid'))\n",
    "\n",
    "model.compile(optimizer='rmsprop', loss='binary_crossentropy', metrics=['acc'])\n",
    "history = model.fit(X_train, y_train, epochs=10, batch_size=60, validation_split=0.3)"
   ]
  },
  {
   "cell_type": "code",
   "execution_count": 97,
   "metadata": {},
   "outputs": [],
   "source": [
    "model.save(MODEL_PATH)"
   ]
  },
  {
   "cell_type": "code",
   "execution_count": null,
   "metadata": {},
   "outputs": [],
   "source": [
    "model.predict('')"
   ]
  }
 ],
 "metadata": {
  "kernelspec": {
   "display_name": "ml",
   "language": "python",
   "name": "ml"
  },
  "language_info": {
   "codemirror_mode": {
    "name": "ipython",
    "version": 3
   },
   "file_extension": ".py",
   "mimetype": "text/x-python",
   "name": "python",
   "nbconvert_exporter": "python",
   "pygments_lexer": "ipython3",
   "version": "3.7.3"
  }
 },
 "nbformat": 4,
 "nbformat_minor": 2
}
