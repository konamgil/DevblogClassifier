{
 "cells": [
  {
   "cell_type": "code",
   "execution_count": 63,
   "metadata": {},
   "outputs": [],
   "source": [
    "import os\n",
    "import pandas as pd\n",
    "import numpy as np\n",
    "from sklearn.model_selection import train_test_split\n",
    "from tensorflow.keras.layers import SimpleRNN, Embedding, Dense\n",
    "from tensorflow.keras.models import Sequential\n",
    "from keras import backend as K "
   ]
  },
  {
   "cell_type": "code",
   "execution_count": 14,
   "metadata": {},
   "outputs": [],
   "source": [
    "# Fast Text pretrained\n",
    "WIKI_KO_DATA = './data/cc.ko.300.bin.gz'\n",
    "\n",
    "# Fast Text Embedding 모델\n",
    "FT_EMBEDDING_PATH = f'./model/ft_embedding'\n",
    "\n",
    "# 학습 데이터\n",
    "DATA_PATH = './data/10000_data.tsv'\n",
    "\n",
    "# 최종 모델\n",
    "MODEL_PATH = './model/10000_doc_model'"
   ]
  },
  {
   "cell_type": "code",
   "execution_count": 12,
   "metadata": {},
   "outputs": [],
   "source": [
    "if not os.path.exists('./model'):\n",
    "    os.makedirs('./model')"
   ]
  },
  {
   "cell_type": "markdown",
   "metadata": {},
   "source": [
    "### Gensim FastText\n",
    "- cc.ko.300.bin.gz : [Fast Text에서 제공하는 위키백과 한국어 데이터](https://fasttext.cc/docs/en/crawl-vectors.html)"
   ]
  },
  {
   "cell_type": "code",
   "execution_count": 13,
   "metadata": {},
   "outputs": [
    {
     "name": "stdout",
     "output_type": "stream",
     "text": [
      "start to train\n",
      "model saved\n"
     ]
    }
   ],
   "source": [
    "if os.path.isfile(FT_EMBEDDING_PATH):\n",
    "    # 학습된 파일이 있는 경우\n",
    "    print('trained model exist.')\n",
    "    from gensim.models import FastText\n",
    "    ko_model = FastText.load(FT_EMBEDDING_PATH)\n",
    "    print('model loaded')\n",
    "    \n",
    "else:\n",
    "    # 학습된 파일이 없는 경우\n",
    "    print('start to train')\n",
    "    from gensim import models\n",
    "    if os.path.isfile(WIKI_KO_DATA):\n",
    "        ko_model = models.fasttext.load_facebook_model(WIKI_KO_DATA)\n",
    "        ko_model.save(FT_EMBEDDING_PATH)\n",
    "        print('model saved')\n",
    "    else:\n",
    "        print('no wiki_ko_data. please download cc.ko.300.bin.gz from [https://fasttext.cc/docs/en/crawl-vectors.html]')"
   ]
  },
  {
   "cell_type": "code",
   "execution_count": 15,
   "metadata": {
    "scrolled": true
   },
   "outputs": [
    {
     "name": "stdout",
     "output_type": "stream",
     "text": [
      "Python: 0.565061628818512\n",
      "자이썬: 0.5624369382858276\n",
      "레일스: 0.5598082542419434\n",
      "파이썬을: 0.5595801472663879\n",
      "언어용: 0.5288202166557312\n",
      "파이썬의: 0.5250024795532227\n",
      "프로그래밍: 0.5225088000297546\n",
      "wxPython: 0.5222088098526001\n",
      "파이썬이나: 0.5201171636581421\n",
      "함수형: 0.5187377333641052\n"
     ]
    }
   ],
   "source": [
    "for w, sim in ko_model.wv.similar_by_word('파이썬', 10):\n",
    "    print(f'{w}: {sim}')"
   ]
  },
  {
   "cell_type": "code",
   "execution_count": 16,
   "metadata": {},
   "outputs": [
    {
     "name": "stdout",
     "output_type": "stream",
     "text": [
      "vocab size : 2000000\n"
     ]
    }
   ],
   "source": [
    "print(f'vocab size : {len(ko_model.wv.vocab)}')"
   ]
  },
  {
   "cell_type": "code",
   "execution_count": 17,
   "metadata": {},
   "outputs": [
    {
     "data": {
      "text/html": [
       "<div>\n",
       "<style scoped>\n",
       "    .dataframe tbody tr th:only-of-type {\n",
       "        vertical-align: middle;\n",
       "    }\n",
       "\n",
       "    .dataframe tbody tr th {\n",
       "        vertical-align: top;\n",
       "    }\n",
       "\n",
       "    .dataframe thead th {\n",
       "        text-align: right;\n",
       "    }\n",
       "</style>\n",
       "<table border=\"1\" class=\"dataframe\">\n",
       "  <thead>\n",
       "    <tr style=\"text-align: right;\">\n",
       "      <th></th>\n",
       "      <th>label</th>\n",
       "      <th>sentence</th>\n",
       "    </tr>\n",
       "  </thead>\n",
       "  <tbody>\n",
       "    <tr>\n",
       "      <th>3583</th>\n",
       "      <td>1</td>\n",
       "      <td>aaa authentication authorization accounting 1 ...</td>\n",
       "    </tr>\n",
       "    <tr>\n",
       "      <th>1508</th>\n",
       "      <td>1</td>\n",
       "      <td>마이크로 서비스 전환시 알아야 할 것 어떤 서비스를 만들때에 monolithic으로...</td>\n",
       "    </tr>\n",
       "    <tr>\n",
       "      <th>3310</th>\n",
       "      <td>1</td>\n",
       "      <td>apache 24 flask 설정방법 아파치에서 flask로 만들어진 어플리케이션을...</td>\n",
       "    </tr>\n",
       "    <tr>\n",
       "      <th>9976</th>\n",
       "      <td>1</td>\n",
       "      <td>angular 하이브리드앱 개발 1 ionic framework 개발환경 구축 io...</td>\n",
       "    </tr>\n",
       "    <tr>\n",
       "      <th>872</th>\n",
       "      <td>1</td>\n",
       "      <td>javascript 모던자바스크립트 4 코드구조 이 글은 번역 및 정리 글입니다 출...</td>\n",
       "    </tr>\n",
       "  </tbody>\n",
       "</table>\n",
       "</div>"
      ],
      "text/plain": [
       "      label                                           sentence\n",
       "3583      1  aaa authentication authorization accounting 1 ...\n",
       "1508      1  마이크로 서비스 전환시 알아야 할 것 어떤 서비스를 만들때에 monolithic으로...\n",
       "3310      1  apache 24 flask 설정방법 아파치에서 flask로 만들어진 어플리케이션을...\n",
       "9976      1  angular 하이브리드앱 개발 1 ionic framework 개발환경 구축 io...\n",
       "872       1  javascript 모던자바스크립트 4 코드구조 이 글은 번역 및 정리 글입니다 출..."
      ]
     },
     "execution_count": 17,
     "metadata": {},
     "output_type": "execute_result"
    }
   ],
   "source": [
    "data = pd.read_csv(DATA_PATH, sep='\\t', usecols=['label', 'sentence'])\n",
    "data.sample(5)"
   ]
  },
  {
   "cell_type": "code",
   "execution_count": 18,
   "metadata": {
    "scrolled": true
   },
   "outputs": [
    {
     "data": {
      "text/plain": [
       "0       todo 리스트를 1달간 사용해본 후기 왜 todo 리스트를 사용했나요 위 질문에 ...\n",
       "1       양평 블룸비스타 콩순이 패밀리룸이 궁금하신분에게 드리는 후기 늦은 여름 휴가로 양평...\n",
       "2       javascript js 자바스크립트 문자열 메소드 javascript 문자열 메소...\n",
       "3       우리 시장에는 어떤 교육이 필요할까요 1 시장적합형 교육과 기술적합형 교육 며칠전 ...\n",
       "4       저 많은 국민은행 앱들은 대체 다 어디다 쓰는 걸까 대략 정리 구글플래이 스토어에서...\n",
       "                              ...                        \n",
       "9995    nginx rest kubernetes 164 kubernetes nginx ing...\n",
       "9996    git https javascript html web ui modal design ...\n",
       "9997    spring boot spring spring boot오류 처리에 대해 서론오류 처...\n",
       "9998    http3 http3 httpoverquic quic은 quick udp inter...\n",
       "9999    spring kotlin kotlin spring boot security thym...\n",
       "Name: sentence, Length: 10000, dtype: object"
      ]
     },
     "execution_count": 18,
     "metadata": {},
     "output_type": "execute_result"
    }
   ],
   "source": [
    "data.sentence"
   ]
  },
  {
   "cell_type": "code",
   "execution_count": 19,
   "metadata": {},
   "outputs": [
    {
     "name": "stderr",
     "output_type": "stream",
     "text": [
      "/Users/nero/.virtualenvs/dc/lib/python3.7/site-packages/ipykernel_launcher.py:6: DeprecationWarning: Call to deprecated `__getitem__` (Method will be removed in 4.0.0, use self.wv.__getitem__() instead).\n",
      "  \n"
     ]
    }
   ],
   "source": [
    "def sentenceToVector(sentence):\n",
    "    words = sentence.split(' ')\n",
    "    words_num = len(words)\n",
    "    vector = np.zeros(300) # ko_model shape가 300\n",
    "    for word in words:\n",
    "        vector += ko_model[word]\n",
    "    return vector/words_num\n",
    "data['vector'] = data.sentence.apply(sentenceToVector)"
   ]
  },
  {
   "cell_type": "code",
   "execution_count": 20,
   "metadata": {},
   "outputs": [],
   "source": [
    "def numberToOneHot(num):\n",
    "    oneHot = [0]*2\n",
    "    oneHot[num] = 1\n",
    "    return oneHot\n",
    "\n",
    "data['oneHot'] = data.label.apply(numberToOneHot)"
   ]
  },
  {
   "cell_type": "code",
   "execution_count": 21,
   "metadata": {
    "scrolled": true
   },
   "outputs": [
    {
     "data": {
      "text/html": [
       "<div>\n",
       "<style scoped>\n",
       "    .dataframe tbody tr th:only-of-type {\n",
       "        vertical-align: middle;\n",
       "    }\n",
       "\n",
       "    .dataframe tbody tr th {\n",
       "        vertical-align: top;\n",
       "    }\n",
       "\n",
       "    .dataframe thead th {\n",
       "        text-align: right;\n",
       "    }\n",
       "</style>\n",
       "<table border=\"1\" class=\"dataframe\">\n",
       "  <thead>\n",
       "    <tr style=\"text-align: right;\">\n",
       "      <th></th>\n",
       "      <th>label</th>\n",
       "      <th>sentence</th>\n",
       "      <th>vector</th>\n",
       "      <th>oneHot</th>\n",
       "    </tr>\n",
       "  </thead>\n",
       "  <tbody>\n",
       "    <tr>\n",
       "      <th>0</th>\n",
       "      <td>1</td>\n",
       "      <td>todo 리스트를 1달간 사용해본 후기 왜 todo 리스트를 사용했나요 위 질문에 ...</td>\n",
       "      <td>[0.013710441264420491, 0.0032995063650540692, ...</td>\n",
       "      <td>[0, 1]</td>\n",
       "    </tr>\n",
       "    <tr>\n",
       "      <th>1</th>\n",
       "      <td>0</td>\n",
       "      <td>양평 블룸비스타 콩순이 패밀리룸이 궁금하신분에게 드리는 후기 늦은 여름 휴가로 양평...</td>\n",
       "      <td>[0.00013062362416590355, -0.032540909874690126...</td>\n",
       "      <td>[1, 0]</td>\n",
       "    </tr>\n",
       "    <tr>\n",
       "      <th>2</th>\n",
       "      <td>1</td>\n",
       "      <td>javascript js 자바스크립트 문자열 메소드 javascript 문자열 메소...</td>\n",
       "      <td>[-0.04456514536979653, 0.00961365589007203, 0....</td>\n",
       "      <td>[0, 1]</td>\n",
       "    </tr>\n",
       "  </tbody>\n",
       "</table>\n",
       "</div>"
      ],
      "text/plain": [
       "   label                                           sentence  \\\n",
       "0      1  todo 리스트를 1달간 사용해본 후기 왜 todo 리스트를 사용했나요 위 질문에 ...   \n",
       "1      0  양평 블룸비스타 콩순이 패밀리룸이 궁금하신분에게 드리는 후기 늦은 여름 휴가로 양평...   \n",
       "2      1  javascript js 자바스크립트 문자열 메소드 javascript 문자열 메소...   \n",
       "\n",
       "                                              vector  oneHot  \n",
       "0  [0.013710441264420491, 0.0032995063650540692, ...  [0, 1]  \n",
       "1  [0.00013062362416590355, -0.032540909874690126...  [1, 0]  \n",
       "2  [-0.04456514536979653, 0.00961365589007203, 0....  [0, 1]  "
      ]
     },
     "execution_count": 21,
     "metadata": {},
     "output_type": "execute_result"
    }
   ],
   "source": [
    "data.head(3)"
   ]
  },
  {
   "cell_type": "code",
   "execution_count": 22,
   "metadata": {},
   "outputs": [
    {
     "data": {
      "text/plain": [
       "(300,)"
      ]
     },
     "execution_count": 22,
     "metadata": {},
     "output_type": "execute_result"
    }
   ],
   "source": [
    "data.vector[0].shape"
   ]
  },
  {
   "cell_type": "code",
   "execution_count": 93,
   "metadata": {},
   "outputs": [],
   "source": [
    "X_train, X_test, y_train, y_test = train_test_split(data.vector, data.label, test_size=0.33, random_state=321)"
   ]
  },
  {
   "cell_type": "code",
   "execution_count": 94,
   "metadata": {},
   "outputs": [],
   "source": [
    "def reshape(series, embedding_dim):\n",
    "    result = np.array(series.tolist())\n",
    "    result = result.reshape(result.shape[0], embedding_dim, 1)\n",
    "    return result"
   ]
  },
  {
   "cell_type": "code",
   "execution_count": 95,
   "metadata": {},
   "outputs": [
    {
     "name": "stdout",
     "output_type": "stream",
     "text": [
      "X_train shape = (6700, 300, 1) / X_test shape = (3300, 300, 1)\n"
     ]
    }
   ],
   "source": [
    "X_train = reshape(X_train, 300)\n",
    "X_test = reshape(X_test, 300)\n",
    "print(f'X_train shape = {X_train.shape} / X_test shape = {X_test.shape}')"
   ]
  },
  {
   "cell_type": "code",
   "execution_count": 108,
   "metadata": {},
   "outputs": [],
   "source": [
    "def recall_m(y_true, y_pred):\n",
    "        true_positives = K.sum(K.round(K.clip(y_true * y_pred, 0, 1)))\n",
    "        possible_positives = K.sum(K.round(K.clip(y_true, 0, 1)))\n",
    "        recall = true_positives / (possible_positives + K.epsilon())\n",
    "        return recall\n",
    "\n",
    "def precision_m(y_true, y_pred):\n",
    "        true_positives = K.sum(K.round(K.clip(y_true * y_pred, 0, 1)))\n",
    "        predicted_positives = K.sum(K.round(K.clip(y_pred, 0, 1)))\n",
    "        precision = true_positives / (predicted_positives + K.epsilon())\n",
    "        return precision\n",
    "\n",
    "def f1_m(y_true, y_pred):\n",
    "    precision = precision_m(y_true, y_pred)\n",
    "    recall = recall_m(y_true, y_pred)\n",
    "    return 2*((precision*recall)/(precision+recall+K.epsilon()))"
   ]
  },
  {
   "cell_type": "code",
   "execution_count": 110,
   "metadata": {
    "scrolled": true
   },
   "outputs": [
    {
     "name": "stdout",
     "output_type": "stream",
     "text": [
      "Train on 4690 samples, validate on 2010 samples\n",
      "Epoch 1/10\n",
      "4690/4690 [==============================] - 11s 2ms/sample - loss: 0.5929 - acc: 0.7068 - f1_m: 0.8149 - precision_m: 0.7111 - recall_m: 0.9598 - val_loss: 0.5721 - val_acc: 0.7264 - val_f1_m: 0.8332 - val_precision_m: 0.7167 - val_recall_m: 1.0000\n",
      "Epoch 2/10\n",
      "4690/4690 [==============================] - 9s 2ms/sample - loss: 0.5536 - acc: 0.7318 - f1_m: 0.8443 - precision_m: 0.7314 - recall_m: 0.9997 - val_loss: 0.5431 - val_acc: 0.7313 - val_f1_m: 0.8347 - val_precision_m: 0.7224 - val_recall_m: 0.9935\n",
      "Epoch 3/10\n",
      "4690/4690 [==============================] - 9s 2ms/sample - loss: 0.5041 - acc: 0.7567 - f1_m: 0.8548 - precision_m: 0.7580 - recall_m: 0.9836 - val_loss: 0.4873 - val_acc: 0.7602 - val_f1_m: 0.8475 - val_precision_m: 0.7562 - val_recall_m: 0.9691\n",
      "Epoch 4/10\n",
      "4690/4690 [==============================] - 9s 2ms/sample - loss: 0.4594 - acc: 0.7808 - f1_m: 0.8628 - precision_m: 0.7921 - recall_m: 0.9506 - val_loss: 0.4609 - val_acc: 0.7851 - val_f1_m: 0.8560 - val_precision_m: 0.7928 - val_recall_m: 0.9357\n",
      "Epoch 5/10\n",
      "4690/4690 [==============================] - 9s 2ms/sample - loss: 0.4403 - acc: 0.7908 - f1_m: 0.8673 - precision_m: 0.8081 - recall_m: 0.9384 - val_loss: 0.4609 - val_acc: 0.7766 - val_f1_m: 0.8521 - val_precision_m: 0.7846 - val_recall_m: 0.9383\n",
      "Epoch 6/10\n",
      "4690/4690 [==============================] - 10s 2ms/sample - loss: 0.4260 - acc: 0.7957 - f1_m: 0.8694 - precision_m: 0.8139 - recall_m: 0.9348 - val_loss: 0.4438 - val_acc: 0.7910 - val_f1_m: 0.8580 - val_precision_m: 0.8026 - val_recall_m: 0.9273\n",
      "Epoch 7/10\n",
      "4690/4690 [==============================] - 9s 2ms/sample - loss: 0.4164 - acc: 0.8036 - f1_m: 0.8740 - precision_m: 0.8232 - recall_m: 0.9340 - val_loss: 0.4376 - val_acc: 0.7985 - val_f1_m: 0.8627 - val_precision_m: 0.8064 - val_recall_m: 0.9329\n",
      "Epoch 8/10\n",
      "4690/4690 [==============================] - 9s 2ms/sample - loss: 0.4126 - acc: 0.8090 - f1_m: 0.8758 - precision_m: 0.8326 - recall_m: 0.9264 - val_loss: 0.4453 - val_acc: 0.7861 - val_f1_m: 0.8569 - val_precision_m: 0.7913 - val_recall_m: 0.9395\n",
      "Epoch 9/10\n",
      "4690/4690 [==============================] - 9s 2ms/sample - loss: 0.4080 - acc: 0.8013 - f1_m: 0.8710 - precision_m: 0.8252 - recall_m: 0.9245 - val_loss: 0.4286 - val_acc: 0.8010 - val_f1_m: 0.8602 - val_precision_m: 0.8266 - val_recall_m: 0.9029\n",
      "Epoch 10/10\n",
      "4690/4690 [==============================] - 9s 2ms/sample - loss: 0.4071 - acc: 0.8077 - f1_m: 0.8743 - precision_m: 0.8322 - recall_m: 0.9223 - val_loss: 0.4536 - val_acc: 0.7871 - val_f1_m: 0.8565 - val_precision_m: 0.7977 - val_recall_m: 0.9309\n"
     ]
    }
   ],
   "source": [
    "K.clear_session()\n",
    "\n",
    "model = Sequential()\n",
    "# model.add(Embedding(len(ko_model.wv.vocab), 300)) # 임베딩 벡터의 차원은 300 <- fast text쓰므로 안씀\n",
    "model.add(Dense(300, input_shape=(X_train.shape[1], 1), activation=\"relu\"))\n",
    "model.add(SimpleRNN(32))\n",
    "model.add(Dense(1, activation='sigmoid'))\n",
    "\n",
    "model.compile(optimizer='rmsprop', loss='binary_crossentropy', metrics=['acc',f1_m,precision_m, recall_m])\n",
    "history = model.fit(X_train, np.asarray(y_train), epochs=10, batch_size=100, validation_split=0.3)"
   ]
  },
  {
   "cell_type": "code",
   "execution_count": 112,
   "metadata": {},
   "outputs": [],
   "source": [
    "# evaluate the model\n",
    "loss, accuracy, f1_score, precision, recall = model.evaluate(X_test, np.asarray(y_test), verbose=0)"
   ]
  },
  {
   "cell_type": "code",
   "execution_count": 114,
   "metadata": {},
   "outputs": [
    {
     "name": "stdout",
     "output_type": "stream",
     "text": [
      "f1_score : 0.8733237981796265 / precision : 0.8236654996871948 / recall : 0.9343108534812927\n"
     ]
    }
   ],
   "source": [
    "print(f'f1_score : {f1_score} / precision : {precision} / recall : {recall}')"
   ]
  },
  {
   "cell_type": "code",
   "execution_count": 106,
   "metadata": {},
   "outputs": [
    {
     "data": {
      "image/png": "[encoded data removed]",
      "text/plain": [
       "<Figure size 432x288 with 2 Axes>"
      ]
     },
     "metadata": {
      "needs_background": "light"
     },
     "output_type": "display_data"
    }
   ],
   "source": [
    "import matplotlib.pyplot as plt\n",
    "\n",
    "fig, loss_ax = plt.subplots()\n",
    "acc_ax = loss_ax.twinx()\n",
    "\n",
    "acc_ax.plot(history.history['acc'], 'b', label='train acc')\n",
    "acc_ax.plot(history.history['val_acc'], 'g', label='val acc')\n",
    "acc_ax.set_ylabel('accuracy')\n",
    "acc_ax.legend(loc='upper left')\n",
    "\n",
    "plt.show()"
   ]
  },
  {
   "cell_type": "code",
   "execution_count": 107,
   "metadata": {},
   "outputs": [
    {
     "name": "stdout",
     "output_type": "stream",
     "text": [
      "INFO:tensorflow:Assets written to: ./model/10000_doc_model/assets\n"
     ]
    }
   ],
   "source": [
    "model.save(MODEL_PATH)"
   ]
  },
  {
   "cell_type": "code",
   "execution_count": null,
   "metadata": {},
   "outputs": [],
   "source": [
    "model.predict('')"
   ]
  }
 ],
 "metadata": {
  "kernelspec": {
   "display_name": "dc",
   "language": "python",
   "name": "dc"
  },
  "language_info": {
   "codemirror_mode": {
    "name": "ipython",
    "version": 3
   },
   "file_extension": ".py",
   "mimetype": "text/x-python",
   "name": "python",
   "nbconvert_exporter": "python",
   "pygments_lexer": "ipython3",
   "version": "3.7.3"
  }
 },
 "nbformat": 4,
 "nbformat_minor": 2
}
