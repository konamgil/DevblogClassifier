{
 "cells": [
  {
   "cell_type": "code",
   "execution_count": 1,
   "metadata": {},
   "outputs": [],
   "source": [
    "import fasttext\n",
    "import os"
   ]
  },
  {
   "cell_type": "code",
   "execution_count": 2,
   "metadata": {},
   "outputs": [],
   "source": [
    "from datetime import date\n",
    "from gensim.models import KeyedVectors"
   ]
  },
  {
   "cell_type": "code",
   "execution_count": 3,
   "metadata": {},
   "outputs": [
    {
     "name": "stdout",
     "output_type": "stream",
     "text": [
      "191117\n"
     ]
    }
   ],
   "source": [
    "today = date.today().strftime('%y%m%d')\n",
    "print(today)"
   ]
  },
  {
   "cell_type": "code",
   "execution_count": 4,
   "metadata": {},
   "outputs": [],
   "source": [
    "SENTENCE_PATH = './data/191117_sentence.txt'\n",
    "OUTPUT_PATH = f'./model/{today}_ft_model'"
   ]
  },
  {
   "cell_type": "code",
   "execution_count": 5,
   "metadata": {},
   "outputs": [],
   "source": [
    "if not os.path.exists('./model'):\n",
    "    os.makedirs('./model')"
   ]
  },
  {
   "cell_type": "markdown",
   "metadata": {},
   "source": [
    "### Fast Text\n",
    "- https://fasttext.cc/blog/2019/06/25/blog-post.html#2-you-were-using-the-unofficial-fasttext-module"
   ]
  },
  {
   "cell_type": "code",
   "execution_count": 6,
   "metadata": {},
   "outputs": [],
   "source": [
    "model = fasttext.train_unsupervised(SENTENCE_PATH, model='skipgram', lr=0.05, dim=100, ws=5, epoch=5)\n",
    "model.save_model(OUTPUT_PATH)"
   ]
  },
  {
   "cell_type": "code",
   "execution_count": 7,
   "metadata": {},
   "outputs": [
    {
     "data": {
      "text/plain": [
       "['</s>', '수', '이', '있는', '1', 'python', '있다', 'spring', '있습니다', '때']"
      ]
     },
     "execution_count": 7,
     "metadata": {},
     "output_type": "execute_result"
    }
   ],
   "source": [
    "model.words[:10]"
   ]
  },
  {
   "cell_type": "code",
   "execution_count": 8,
   "metadata": {},
   "outputs": [
    {
     "data": {
      "text/plain": [
       "array([ 7.98624009e-03, -9.82098281e-04,  3.08022797e-01,  9.19804499e-02,\n",
       "        2.56658316e-01,  1.53854787e-01, -2.57750541e-01,  2.54919827e-01,\n",
       "        8.33011866e-01,  5.29435992e-01, -2.37399176e-01,  1.08181894e-01,\n",
       "       -6.56348944e-01, -2.40287125e-01, -1.69280574e-01,  3.78409475e-01,\n",
       "        4.93364483e-02,  1.00849085e-01,  3.19666266e-01,  5.41082025e-01,\n",
       "        2.71047771e-01,  3.02563041e-01,  4.60833758e-01,  6.90538704e-01,\n",
       "       -6.98469281e-02, -1.02370344e-01,  1.05754964e-01,  3.51892054e-01,\n",
       "       -1.10717788e-01,  5.07791281e-01, -1.92748174e-01, -1.73721582e-01,\n",
       "        3.24789703e-01,  4.80248272e-01,  2.61338145e-01,  7.70238400e-01,\n",
       "        1.01931560e+00,  3.76574397e-01,  9.11964178e-01, -2.63665050e-01,\n",
       "        7.46159434e-01,  1.02120709e+00,  1.98345214e-01,  6.82060421e-01,\n",
       "       -5.34586430e-01, -7.91346878e-02, -4.22338843e-01, -4.08717617e-02,\n",
       "        2.26369977e-01, -3.75227809e-01, -1.15554526e-01, -8.87393653e-02,\n",
       "       -4.39767241e-01, -3.30063283e-01,  4.82698441e-01, -9.85555500e-02,\n",
       "        5.12945652e-01,  6.63529515e-01,  9.17873085e-02,  6.56243563e-01,\n",
       "        2.15967000e-01, -2.91258514e-01, -3.60166728e-02,  5.92876256e-01,\n",
       "        4.04130161e-01, -2.55092055e-01, -2.85507888e-01, -6.57787696e-02,\n",
       "       -2.05385357e-01, -1.81828752e-01, -6.37764692e-01, -2.20551431e-01,\n",
       "        8.07759166e-02,  2.56936640e-01, -2.67469376e-01, -4.54962850e-01,\n",
       "        4.79129851e-01,  3.45918328e-01, -2.03584611e-01, -5.04529297e-01,\n",
       "        5.90189040e-01,  2.61448175e-02,  4.21888292e-01,  1.43916234e-01,\n",
       "       -1.65459648e-01, -1.79514773e-02, -3.67166102e-01,  3.76875103e-01,\n",
       "        1.43725723e-01,  4.63595569e-01, -2.86238790e-01, -3.68827581e-01,\n",
       "       -3.97815704e-02, -6.87548101e-01,  1.19411834e-01,  2.77090520e-01,\n",
       "       -8.35798681e-03, -5.05911708e-01, -4.25116360e-01,  1.35027611e+00],\n",
       "      dtype=float32)"
      ]
     },
     "execution_count": 8,
     "metadata": {},
     "output_type": "execute_result"
    }
   ],
   "source": [
    "model['it']"
   ]
  },
  {
   "cell_type": "code",
   "execution_count": null,
   "metadata": {},
   "outputs": [],
   "source": []
  }
 ],
 "metadata": {
  "kernelspec": {
   "display_name": "dc",
   "language": "python",
   "name": "dc"
  },
  "language_info": {
   "codemirror_mode": {
    "name": "ipython",
    "version": 3
   },
   "file_extension": ".py",
   "mimetype": "text/x-python",
   "name": "python",
   "nbconvert_exporter": "python",
   "pygments_lexer": "ipython3",
   "version": "3.7.3"
  }
 },
 "nbformat": 4,
 "nbformat_minor": 2
}
