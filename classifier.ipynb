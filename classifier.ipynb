{
 "cells": [
  {
   "cell_type": "code",
   "execution_count": 55,
   "metadata": {},
   "outputs": [
    {
     "name": "stdout",
     "output_type": "stream",
     "text": [
      "Writing ./classifier.py\n"
     ]
    }
   ],
   "source": [
    "# %%writefile ./classifier.py\n",
    "class Classifier():\n",
    "    \n",
    "    def __init__(self):\n",
    "        return\n",
    "        \n",
    "    def getWordEmbedding(self, text, size=4, window=3, min_count=1, epochs=10):\n",
    "        \"\"\"\n",
    "        주어진 text 기반 word embedding 학습\n",
    "        \"\"\"\n",
    "        model = FastText(size=size, window=window, min_count=min_count)\n",
    "        model.build_vocab(sentences=text)\n",
    "        model.train(sentences=text, total_examples=len(text), epochs=epochs)\n",
    "        return model\n",
    "    \n",
    "    def getPretrainedWordEmbedding(self)\n",
    "        \n",
    "        \n",
    "    def train(self):\n",
    "        return\n",
    "    \n",
    "    def predict(self):\n",
    "        return\n",
    "        \n",
    "dc = Classifier()"
   ]
  },
  {
   "cell_type": "code",
   "execution_count": 2,
   "metadata": {},
   "outputs": [],
   "source": [
    "from document import Document"
   ]
  },
  {
   "cell_type": "code",
   "execution_count": 3,
   "metadata": {},
   "outputs": [],
   "source": [
    "doc = Document()"
   ]
  },
  {
   "cell_type": "code",
   "execution_count": 9,
   "metadata": {},
   "outputs": [],
   "source": [
    "from gensim.models import FastText\n",
    "\n",
    "def wordEmbedding(text):\n",
    "    model = FastText(size=4, window=3, min_count=1)  # instantiate\n",
    "    model.build_vocab(sentences=text)\n",
    "    model.train(sentences=text, total_examples=len(text), epochs=10)  # train\n",
    "    return model"
   ]
  },
  {
   "cell_type": "code",
   "execution_count": 10,
   "metadata": {},
   "outputs": [],
   "source": [
    "model = wordEmbedding(doc.labeled_data['text'])"
   ]
  },
  {
   "cell_type": "code",
   "execution_count": 11,
   "metadata": {},
   "outputs": [
    {
     "data": {
      "text/plain": [
       "array([-0.00339149,  0.00170711, -0.03193038,  0.03256446], dtype=float32)"
      ]
     },
     "execution_count": 11,
     "metadata": {},
     "output_type": "execute_result"
    }
   ],
   "source": [
    "model.wv['computation']"
   ]
  },
  {
   "cell_type": "code",
   "execution_count": 25,
   "metadata": {},
   "outputs": [
    {
     "name": "stdout",
     "output_type": "stream",
     "text": [
      "를: 0.9730947613716125\n",
      "설: 0.949449896812439\n",
      "등: 0.9394775032997131\n",
      "및: 0.939004123210907\n",
      "법: 0.931160032749176\n",
      "환: 0.9254550337791443\n",
      "련: 0.9157867431640625\n",
      "쉘: 0.8952820897102356\n",
      "치: 0.8911158442497253\n",
      "님: 0.8826853632926941\n"
     ]
    }
   ],
   "source": [
    "for w, sim in model.wv.similar_by_word('파이썬', 10):\n",
    "    print(f'{w}: {sim}')"
   ]
  },
  {
   "cell_type": "code",
   "execution_count": null,
   "metadata": {},
   "outputs": [],
   "source": []
  },
  {
   "cell_type": "code",
   "execution_count": 12,
   "metadata": {},
   "outputs": [
    {
     "name": "stderr",
     "output_type": "stream",
     "text": [
      "Using TensorFlow backend.\n"
     ]
    }
   ],
   "source": [
    "import os\n",
    "import pandas as pd\n",
    "import numpy as np\n",
    "from sklearn.model_selection import train_test_split\n",
    "from tensorflow.keras.layers import SimpleRNN, Embedding, Dense\n",
    "from tensorflow.keras.models import Sequential\n",
    "from keras import backend as K "
   ]
  },
  {
   "cell_type": "code",
   "execution_count": 13,
   "metadata": {},
   "outputs": [],
   "source": [
    "# Fast Text pretrained\n",
    "WIKI_KO_DATA = './data/cc.ko.300.bin.gz'\n",
    "\n",
    "# Fast Text Embedding 모델\n",
    "FT_EMBEDDING_PATH = f'./model/ft_embedding'\n",
    "\n",
    "# 학습 데이터\n",
    "DATA_PATH = './data/10000_data.tsv'\n",
    "\n",
    "# 최종 모델\n",
    "MODEL_PATH = './model/10000_doc_model.json'\n",
    "MODEL_WEIGHT_PATH = './model/10000_doc_model_weight.h5'"
   ]
  },
  {
   "cell_type": "code",
   "execution_count": 14,
   "metadata": {},
   "outputs": [],
   "source": [
    "if not os.path.exists('./model'):\n",
    "    os.makedirs('./model')"
   ]
  },
  {
   "cell_type": "markdown",
   "metadata": {},
   "source": [
    "### Gensim FastText\n",
    "- cc.ko.300.bin.gz : [Fast Text에서 제공하는 위키백과 한국어 데이터](https://fasttext.cc/docs/en/crawl-vectors.html)"
   ]
  },
  {
   "cell_type": "code",
   "execution_count": 15,
   "metadata": {},
   "outputs": [
    {
     "name": "stdout",
     "output_type": "stream",
     "text": [
      "trained model exist.\n",
      "model loaded\n"
     ]
    }
   ],
   "source": [
    "if os.path.isfile(FT_EMBEDDING_PATH):\n",
    "    # 학습된 파일이 있는 경우\n",
    "    print('trained model exist.')\n",
    "    from gensim.models import FastText\n",
    "    ko_model = FastText.load(FT_EMBEDDING_PATH)\n",
    "    print('model loaded')\n",
    "    \n",
    "else:\n",
    "    # 학습된 파일이 없는 경우\n",
    "    print('start to train')\n",
    "    from gensim import models\n",
    "    if os.path.isfile(WIKI_KO_DATA):\n",
    "        ko_model = models.fasttext.load_facebook_model(WIKI_KO_DATA)\n",
    "        ko_model.save(FT_EMBEDDING_PATH)\n",
    "        print('model saved')\n",
    "    else:\n",
    "        print('no wiki_ko_data. please download cc.ko.300.bin.gz from [https://fasttext.cc/docs/en/crawl-vectors.html]')"
   ]
  },
  {
   "cell_type": "code",
   "execution_count": 24,
   "metadata": {
    "scrolled": false
   },
   "outputs": [
    {
     "name": "stdout",
     "output_type": "stream",
     "text": [
      "Python: 0.565061628818512\n",
      "자이썬: 0.5624369382858276\n",
      "레일스: 0.5598082542419434\n",
      "파이썬을: 0.5595801472663879\n",
      "언어용: 0.5288202166557312\n",
      "파이썬의: 0.5250024795532227\n",
      "프로그래밍: 0.5225088000297546\n",
      "wxPython: 0.5222088098526001\n",
      "파이썬이나: 0.5201171636581421\n",
      "함수형: 0.5187377333641052\n"
     ]
    }
   ],
   "source": [
    "for w, sim in ko_model.wv.similar_by_word('파이썬', 10):\n",
    "    print(f'{w}: {sim}')"
   ]
  },
  {
   "cell_type": "code",
   "execution_count": 16,
   "metadata": {},
   "outputs": [
    {
     "name": "stdout",
     "output_type": "stream",
     "text": [
      "vocab size : 2000000\n"
     ]
    }
   ],
   "source": [
    "print(f'vocab size : {len(ko_model.wv.vocab)}')"
   ]
  },
  {
   "cell_type": "markdown",
   "metadata": {},
   "source": [
    "### Train Model"
   ]
  },
  {
   "cell_type": "code",
   "execution_count": 17,
   "metadata": {},
   "outputs": [
    {
     "data": {
      "text/html": [
       "<div>\n",
       "<style scoped>\n",
       "    .dataframe tbody tr th:only-of-type {\n",
       "        vertical-align: middle;\n",
       "    }\n",
       "\n",
       "    .dataframe tbody tr th {\n",
       "        vertical-align: top;\n",
       "    }\n",
       "\n",
       "    .dataframe thead th {\n",
       "        text-align: right;\n",
       "    }\n",
       "</style>\n",
       "<table border=\"1\" class=\"dataframe\">\n",
       "  <thead>\n",
       "    <tr style=\"text-align: right;\">\n",
       "      <th></th>\n",
       "      <th>label</th>\n",
       "      <th>sentence</th>\n",
       "    </tr>\n",
       "  </thead>\n",
       "  <tbody>\n",
       "    <tr>\n",
       "      <th>2312</th>\n",
       "      <td>1</td>\n",
       "      <td>20180731 카카오스낵게임공모전 7차 회의록 회의일 20180731 1500 1...</td>\n",
       "    </tr>\n",
       "    <tr>\n",
       "      <th>8239</th>\n",
       "      <td>1</td>\n",
       "      <td>python python에서도 defer하기 contextlibexitstack g...</td>\n",
       "    </tr>\n",
       "    <tr>\n",
       "      <th>4295</th>\n",
       "      <td>0</td>\n",
       "      <td>순수하게 마음속으로부터 표리 없어서 걱정인 것이다 너라면 알 것이다기다려 기다려 그...</td>\n",
       "    </tr>\n",
       "    <tr>\n",
       "      <th>1124</th>\n",
       "      <td>0</td>\n",
       "      <td>python ybm python test level 2 공항 방문객 styledis...</td>\n",
       "    </tr>\n",
       "    <tr>\n",
       "      <th>1169</th>\n",
       "      <td>1</td>\n",
       "      <td>golang 종단간 http api 테스트 baloo 라이브러리 알아보기 오늘은 g...</td>\n",
       "    </tr>\n",
       "  </tbody>\n",
       "</table>\n",
       "</div>"
      ],
      "text/plain": [
       "      label                                           sentence\n",
       "2312      1  20180731 카카오스낵게임공모전 7차 회의록 회의일 20180731 1500 1...\n",
       "8239      1  python python에서도 defer하기 contextlibexitstack g...\n",
       "4295      0  순수하게 마음속으로부터 표리 없어서 걱정인 것이다 너라면 알 것이다기다려 기다려 그...\n",
       "1124      0  python ybm python test level 2 공항 방문객 styledis...\n",
       "1169      1  golang 종단간 http api 테스트 baloo 라이브러리 알아보기 오늘은 g..."
      ]
     },
     "execution_count": 17,
     "metadata": {},
     "output_type": "execute_result"
    }
   ],
   "source": [
    "data = pd.read_csv(DATA_PATH, sep='\\t', usecols=['label', 'sentence'])\n",
    "data.sample(5)"
   ]
  },
  {
   "cell_type": "code",
   "execution_count": 18,
   "metadata": {
    "scrolled": true
   },
   "outputs": [
    {
     "data": {
      "text/plain": [
       "0       todo 리스트를 1달간 사용해본 후기 왜 todo 리스트를 사용했나요 위 질문에 ...\n",
       "1       양평 블룸비스타 콩순이 패밀리룸이 궁금하신분에게 드리는 후기 늦은 여름 휴가로 양평...\n",
       "2       javascript js 자바스크립트 문자열 메소드 javascript 문자열 메소...\n",
       "3       우리 시장에는 어떤 교육이 필요할까요 1 시장적합형 교육과 기술적합형 교육 며칠전 ...\n",
       "4       저 많은 국민은행 앱들은 대체 다 어디다 쓰는 걸까 대략 정리 구글플래이 스토어에서...\n",
       "                              ...                        \n",
       "9995    nginx rest kubernetes 164 kubernetes nginx ing...\n",
       "9996    git https javascript html web ui modal design ...\n",
       "9997    spring boot spring spring boot오류 처리에 대해 서론오류 처...\n",
       "9998    http3 http3 httpoverquic quic은 quick udp inter...\n",
       "9999    spring kotlin kotlin spring boot security thym...\n",
       "Name: sentence, Length: 10000, dtype: object"
      ]
     },
     "execution_count": 18,
     "metadata": {},
     "output_type": "execute_result"
    }
   ],
   "source": [
    "data.sentence"
   ]
  },
  {
   "cell_type": "code",
   "execution_count": 19,
   "metadata": {},
   "outputs": [
    {
     "name": "stderr",
     "output_type": "stream",
     "text": [
      "/Users/nero/.virtualenvs/dc/lib/python3.7/site-packages/ipykernel_launcher.py:6: DeprecationWarning: Call to deprecated `__getitem__` (Method will be removed in 4.0.0, use self.wv.__getitem__() instead).\n",
      "  \n"
     ]
    }
   ],
   "source": [
    "def sentenceToVector(sentence):\n",
    "    words = sentence.split(' ')\n",
    "    words_num = len(words)\n",
    "    vector = np.zeros(300) # ko_model shape가 300\n",
    "    for word in words:\n",
    "        vector += ko_model[word]\n",
    "    return vector/words_num\n",
    "data['vector'] = data.sentence.apply(sentenceToVector)"
   ]
  },
  {
   "cell_type": "code",
   "execution_count": 47,
   "metadata": {},
   "outputs": [],
   "source": [
    "def numberToOneHot(num):\n",
    "    oneHot = [0]*2\n",
    "    oneHot[num] = 1\n",
    "    return oneHot\n",
    "\n",
    "data['oneHot'] = data.label.apply(numberToOneHot)"
   ]
  },
  {
   "cell_type": "code",
   "execution_count": 48,
   "metadata": {
    "scrolled": true
   },
   "outputs": [
    {
     "data": {
      "text/html": [
       "<div>\n",
       "<style scoped>\n",
       "    .dataframe tbody tr th:only-of-type {\n",
       "        vertical-align: middle;\n",
       "    }\n",
       "\n",
       "    .dataframe tbody tr th {\n",
       "        vertical-align: top;\n",
       "    }\n",
       "\n",
       "    .dataframe thead th {\n",
       "        text-align: right;\n",
       "    }\n",
       "</style>\n",
       "<table border=\"1\" class=\"dataframe\">\n",
       "  <thead>\n",
       "    <tr style=\"text-align: right;\">\n",
       "      <th></th>\n",
       "      <th>label</th>\n",
       "      <th>sentence</th>\n",
       "      <th>vector</th>\n",
       "      <th>oneHot</th>\n",
       "    </tr>\n",
       "  </thead>\n",
       "  <tbody>\n",
       "    <tr>\n",
       "      <th>0</th>\n",
       "      <td>1</td>\n",
       "      <td>todo 리스트를 1달간 사용해본 후기 왜 todo 리스트를 사용했나요 위 질문에 ...</td>\n",
       "      <td>[0.013710441264420491, 0.0032995063650540692, ...</td>\n",
       "      <td>[0, 1]</td>\n",
       "    </tr>\n",
       "    <tr>\n",
       "      <th>1</th>\n",
       "      <td>0</td>\n",
       "      <td>양평 블룸비스타 콩순이 패밀리룸이 궁금하신분에게 드리는 후기 늦은 여름 휴가로 양평...</td>\n",
       "      <td>[0.00013062362416590355, -0.032540909874690126...</td>\n",
       "      <td>[1, 0]</td>\n",
       "    </tr>\n",
       "    <tr>\n",
       "      <th>2</th>\n",
       "      <td>1</td>\n",
       "      <td>javascript js 자바스크립트 문자열 메소드 javascript 문자열 메소...</td>\n",
       "      <td>[-0.04456514536979653, 0.00961365589007203, 0....</td>\n",
       "      <td>[0, 1]</td>\n",
       "    </tr>\n",
       "  </tbody>\n",
       "</table>\n",
       "</div>"
      ],
      "text/plain": [
       "   label                                           sentence  \\\n",
       "0      1  todo 리스트를 1달간 사용해본 후기 왜 todo 리스트를 사용했나요 위 질문에 ...   \n",
       "1      0  양평 블룸비스타 콩순이 패밀리룸이 궁금하신분에게 드리는 후기 늦은 여름 휴가로 양평...   \n",
       "2      1  javascript js 자바스크립트 문자열 메소드 javascript 문자열 메소...   \n",
       "\n",
       "                                              vector  oneHot  \n",
       "0  [0.013710441264420491, 0.0032995063650540692, ...  [0, 1]  \n",
       "1  [0.00013062362416590355, -0.032540909874690126...  [1, 0]  \n",
       "2  [-0.04456514536979653, 0.00961365589007203, 0....  [0, 1]  "
      ]
     },
     "execution_count": 48,
     "metadata": {},
     "output_type": "execute_result"
    }
   ],
   "source": [
    "data.head(3)"
   ]
  },
  {
   "cell_type": "code",
   "execution_count": 20,
   "metadata": {},
   "outputs": [
    {
     "data": {
      "text/plain": [
       "(300,)"
      ]
     },
     "execution_count": 20,
     "metadata": {},
     "output_type": "execute_result"
    }
   ],
   "source": [
    "data.vector[0].shape"
   ]
  },
  {
   "cell_type": "code",
   "execution_count": 21,
   "metadata": {},
   "outputs": [],
   "source": [
    "X_train, X_test, y_train, y_test = train_test_split(data.vector, data.label, test_size=0.33, random_state=321)"
   ]
  },
  {
   "cell_type": "code",
   "execution_count": 22,
   "metadata": {},
   "outputs": [],
   "source": [
    "def reshape(series, embedding_dim):\n",
    "    result = np.array(series.tolist())\n",
    "    result = result.reshape(result.shape[0], embedding_dim, 1)\n",
    "    return result"
   ]
  },
  {
   "cell_type": "code",
   "execution_count": 23,
   "metadata": {},
   "outputs": [
    {
     "name": "stdout",
     "output_type": "stream",
     "text": [
      "X_train shape = (6700, 300, 1) / X_test shape = (3300, 300, 1)\n"
     ]
    }
   ],
   "source": [
    "X_train = reshape(X_train, 300)\n",
    "X_test = reshape(X_test, 300)\n",
    "print(f'X_train shape = {X_train.shape} / X_test shape = {X_test.shape}')"
   ]
  },
  {
   "cell_type": "code",
   "execution_count": 24,
   "metadata": {},
   "outputs": [],
   "source": [
    "def recall_m(y_true, y_pred):\n",
    "        true_positives = K.sum(K.round(K.clip(y_true * y_pred, 0, 1)))\n",
    "        possible_positives = K.sum(K.round(K.clip(y_true, 0, 1)))\n",
    "        recall = true_positives / (possible_positives + K.epsilon())\n",
    "        return recall\n",
    "\n",
    "def precision_m(y_true, y_pred):\n",
    "        true_positives = K.sum(K.round(K.clip(y_true * y_pred, 0, 1)))\n",
    "        predicted_positives = K.sum(K.round(K.clip(y_pred, 0, 1)))\n",
    "        precision = true_positives / (predicted_positives + K.epsilon())\n",
    "        return precision\n",
    "\n",
    "def f1_m(y_true, y_pred):\n",
    "    precision = precision_m(y_true, y_pred)\n",
    "    recall = recall_m(y_true, y_pred)\n",
    "    return 2*((precision*recall)/(precision+recall+K.epsilon()))"
   ]
  },
  {
   "cell_type": "code",
   "execution_count": 68,
   "metadata": {
    "scrolled": true
   },
   "outputs": [
    {
     "name": "stdout",
     "output_type": "stream",
     "text": [
      "Train on 4690 samples, validate on 2010 samples\n",
      "Epoch 1/30\n",
      "4690/4690 [==============================] - 11s 2ms/sample - loss: 0.5762 - acc: 0.7309 - f1_m: 0.8432 - precision_m: 0.7329 - recall_m: 0.9959 - val_loss: 0.5560 - val_acc: 0.7264 - val_f1_m: 0.8332 - val_precision_m: 0.7167 - val_recall_m: 1.0000\n",
      "Epoch 2/30\n",
      "4690/4690 [==============================] - 10s 2ms/sample - loss: 0.5282 - acc: 0.7401 - f1_m: 0.8476 - precision_m: 0.7398 - recall_m: 0.9951 - val_loss: 0.5110 - val_acc: 0.7333 - val_f1_m: 0.8357 - val_precision_m: 0.7236 - val_recall_m: 0.9940\n",
      "Epoch 3/30\n",
      "4690/4690 [==============================] - 10s 2ms/sample - loss: 0.4808 - acc: 0.7716 - f1_m: 0.8603 - precision_m: 0.7769 - recall_m: 0.9671 - val_loss: 0.4830 - val_acc: 0.7567 - val_f1_m: 0.8418 - val_precision_m: 0.7565 - val_recall_m: 0.9553\n",
      "Epoch 4/30\n",
      "4690/4690 [==============================] - 10s 2ms/sample - loss: 0.4549 - acc: 0.7859 - f1_m: 0.8638 - precision_m: 0.8033 - recall_m: 0.9368 - val_loss: 0.4574 - val_acc: 0.7756 - val_f1_m: 0.8506 - val_precision_m: 0.7773 - val_recall_m: 0.9465\n",
      "Epoch 5/30\n",
      "4690/4690 [==============================] - 9s 2ms/sample - loss: 0.4473 - acc: 0.7913 - f1_m: 0.8669 - precision_m: 0.8104 - recall_m: 0.9347 - val_loss: 0.4643 - val_acc: 0.7886 - val_f1_m: 0.8515 - val_precision_m: 0.8125 - val_recall_m: 0.9026\n",
      "Epoch 6/30\n",
      "4690/4690 [==============================] - 10s 2ms/sample - loss: 0.4367 - acc: 0.7966 - f1_m: 0.8680 - precision_m: 0.8215 - recall_m: 0.9223 - val_loss: 0.4651 - val_acc: 0.7801 - val_f1_m: 0.8515 - val_precision_m: 0.7855 - val_recall_m: 0.9372\n",
      "Epoch 7/30\n",
      "4690/4690 [==============================] - 10s 2ms/sample - loss: 0.4344 - acc: 0.7987 - f1_m: 0.8693 - precision_m: 0.8239 - recall_m: 0.9227 - val_loss: 0.4562 - val_acc: 0.7881 - val_f1_m: 0.8548 - val_precision_m: 0.7970 - val_recall_m: 0.9295\n",
      "Epoch 8/30\n",
      "4690/4690 [==============================] - 11s 2ms/sample - loss: 0.4253 - acc: 0.8070 - f1_m: 0.8749 - precision_m: 0.8284 - recall_m: 0.9287 - val_loss: 0.4449 - val_acc: 0.7990 - val_f1_m: 0.8592 - val_precision_m: 0.8136 - val_recall_m: 0.9182\n",
      "Epoch 9/30\n",
      "4690/4690 [==============================] - 10s 2ms/sample - loss: 0.4187 - acc: 0.8068 - f1_m: 0.8728 - precision_m: 0.8349 - recall_m: 0.9173 - val_loss: 0.4498 - val_acc: 0.7831 - val_f1_m: 0.8527 - val_precision_m: 0.7899 - val_recall_m: 0.9340\n",
      "Epoch 10/30\n",
      "4690/4690 [==============================] - 9s 2ms/sample - loss: 0.4174 - acc: 0.8096 - f1_m: 0.8742 - precision_m: 0.8387 - recall_m: 0.9166 - val_loss: 0.4466 - val_acc: 0.7935 - val_f1_m: 0.8525 - val_precision_m: 0.8263 - val_recall_m: 0.8891\n",
      "Epoch 11/30\n",
      "4690/4690 [==============================] - 10s 2ms/sample - loss: 0.4102 - acc: 0.8102 - f1_m: 0.8752 - precision_m: 0.8389 - recall_m: 0.9176 - val_loss: 0.4338 - val_acc: 0.8030 - val_f1_m: 0.8589 - val_precision_m: 0.8306 - val_recall_m: 0.8974\n",
      "Epoch 12/30\n",
      "4690/4690 [==============================] - 10s 2ms/sample - loss: 0.4027 - acc: 0.8143 - f1_m: 0.8777 - precision_m: 0.8454 - recall_m: 0.9155 - val_loss: 0.4341 - val_acc: 0.7990 - val_f1_m: 0.8582 - val_precision_m: 0.8184 - val_recall_m: 0.9104\n",
      "Epoch 13/30\n",
      "4690/4690 [==============================] - 10s 2ms/sample - loss: 0.4012 - acc: 0.8113 - f1_m: 0.8753 - precision_m: 0.8436 - recall_m: 0.9127 - val_loss: 0.4214 - val_acc: 0.8065 - val_f1_m: 0.8621 - val_precision_m: 0.8276 - val_recall_m: 0.9079\n",
      "Epoch 14/30\n",
      "4690/4690 [==============================] - 10s 2ms/sample - loss: 0.3928 - acc: 0.8190 - f1_m: 0.8803 - precision_m: 0.8499 - recall_m: 0.9155 - val_loss: 0.4382 - val_acc: 0.7985 - val_f1_m: 0.8528 - val_precision_m: 0.8550 - val_recall_m: 0.8578\n",
      "Epoch 15/30\n",
      "4690/4690 [==============================] - 10s 2ms/sample - loss: 0.3955 - acc: 0.8156 - f1_m: 0.8778 - precision_m: 0.8507 - recall_m: 0.9106 - val_loss: 0.4245 - val_acc: 0.8035 - val_f1_m: 0.8630 - val_precision_m: 0.8118 - val_recall_m: 0.9287\n",
      "Epoch 16/30\n",
      "4690/4690 [==============================] - 10s 2ms/sample - loss: 0.3940 - acc: 0.8166 - f1_m: 0.8782 - precision_m: 0.8491 - recall_m: 0.9132 - val_loss: 0.4170 - val_acc: 0.8075 - val_f1_m: 0.8639 - val_precision_m: 0.8222 - val_recall_m: 0.9183\n",
      "Epoch 17/30\n",
      "4690/4690 [==============================] - 10s 2ms/sample - loss: 0.3901 - acc: 0.8160 - f1_m: 0.8780 - precision_m: 0.8474 - recall_m: 0.9140 - val_loss: 0.4234 - val_acc: 0.8020 - val_f1_m: 0.8592 - val_precision_m: 0.8255 - val_recall_m: 0.9042\n",
      "Epoch 18/30\n",
      "4690/4690 [==============================] - 12s 2ms/sample - loss: 0.3870 - acc: 0.8203 - f1_m: 0.8808 - precision_m: 0.8510 - recall_m: 0.9148 - val_loss: 0.4220 - val_acc: 0.8085 - val_f1_m: 0.8609 - val_precision_m: 0.8444 - val_recall_m: 0.8876\n",
      "Epoch 19/30\n",
      "4690/4690 [==============================] - 11s 2ms/sample - loss: 0.3857 - acc: 0.8192 - f1_m: 0.8796 - precision_m: 0.8530 - recall_m: 0.9110 - val_loss: 0.4333 - val_acc: 0.8020 - val_f1_m: 0.8555 - val_precision_m: 0.8452 - val_recall_m: 0.8755\n",
      "Epoch 20/30\n",
      "4690/4690 [==============================] - 10s 2ms/sample - loss: 0.3822 - acc: 0.8286 - f1_m: 0.8864 - precision_m: 0.8587 - recall_m: 0.9186 - val_loss: 0.4081 - val_acc: 0.8085 - val_f1_m: 0.8640 - val_precision_m: 0.8239 - val_recall_m: 0.9162\n",
      "Epoch 21/30\n",
      "4690/4690 [==============================] - 11s 2ms/sample - loss: 0.3795 - acc: 0.8237 - f1_m: 0.8829 - precision_m: 0.8542 - recall_m: 0.9159 - val_loss: 0.4125 - val_acc: 0.8144 - val_f1_m: 0.8656 - val_precision_m: 0.8402 - val_recall_m: 0.9011\n",
      "Epoch 22/30\n",
      "4690/4690 [==============================] - 11s 2ms/sample - loss: 0.3788 - acc: 0.8237 - f1_m: 0.8826 - precision_m: 0.8556 - recall_m: 0.9141 - val_loss: 0.4096 - val_acc: 0.8149 - val_f1_m: 0.8697 - val_precision_m: 0.8210 - val_recall_m: 0.9324\n",
      "Epoch 23/30\n",
      "4690/4690 [==============================] - 10s 2ms/sample - loss: 0.3803 - acc: 0.8284 - f1_m: 0.8853 - precision_m: 0.8614 - recall_m: 0.9124 - val_loss: 0.4240 - val_acc: 0.8040 - val_f1_m: 0.8565 - val_precision_m: 0.8605 - val_recall_m: 0.8602\n",
      "Epoch 24/30\n",
      "4690/4690 [==============================] - 11s 2ms/sample - loss: 0.3786 - acc: 0.8230 - f1_m: 0.8822 - precision_m: 0.8582 - recall_m: 0.9109 - val_loss: 0.4150 - val_acc: 0.8159 - val_f1_m: 0.8676 - val_precision_m: 0.8488 - val_recall_m: 0.8939\n",
      "Epoch 25/30\n",
      "4690/4690 [==============================] - 12s 3ms/sample - loss: 0.3769 - acc: 0.8271 - f1_m: 0.8845 - precision_m: 0.8609 - recall_m: 0.9117 - val_loss: 0.4150 - val_acc: 0.8139 - val_f1_m: 0.8639 - val_precision_m: 0.8490 - val_recall_m: 0.8883\n",
      "Epoch 26/30\n",
      "4690/4690 [==============================] - 10s 2ms/sample - loss: 0.3741 - acc: 0.8309 - f1_m: 0.8870 - precision_m: 0.8633 - recall_m: 0.9138 - val_loss: 0.4180 - val_acc: 0.8114 - val_f1_m: 0.8649 - val_precision_m: 0.8328 - val_recall_m: 0.9080\n",
      "Epoch 27/30\n",
      "4690/4690 [==============================] - 10s 2ms/sample - loss: 0.3750 - acc: 0.8284 - f1_m: 0.8852 - precision_m: 0.8640 - recall_m: 0.9105 - val_loss: 0.4468 - val_acc: 0.7990 - val_f1_m: 0.8482 - val_precision_m: 0.8803 - val_recall_m: 0.8266\n",
      "Epoch 28/30\n",
      "4690/4690 [==============================] - 10s 2ms/sample - loss: 0.3713 - acc: 0.8341 - f1_m: 0.8886 - precision_m: 0.8693 - recall_m: 0.9125 - val_loss: 0.4132 - val_acc: 0.8085 - val_f1_m: 0.8663 - val_precision_m: 0.8137 - val_recall_m: 0.9340\n",
      "Epoch 29/30\n",
      "4690/4690 [==============================] - 10s 2ms/sample - loss: 0.3675 - acc: 0.8303 - f1_m: 0.8863 - precision_m: 0.8623 - recall_m: 0.9141 - val_loss: 0.4037 - val_acc: 0.8149 - val_f1_m: 0.8717 - val_precision_m: 0.8224 - val_recall_m: 0.9334\n",
      "Epoch 30/30\n",
      "4690/4690 [==============================] - 10s 2ms/sample - loss: 0.3685 - acc: 0.8358 - f1_m: 0.8899 - precision_m: 0.8699 - recall_m: 0.9135 - val_loss: 0.3992 - val_acc: 0.8139 - val_f1_m: 0.8647 - val_precision_m: 0.8448 - val_recall_m: 0.8942\n"
     ]
    }
   ],
   "source": [
    "K.clear_session()\n",
    "\n",
    "model = Sequential()\n",
    "# model.add(Embedding(len(ko_model.wv.vocab), 300)) # 임베딩 벡터의 차원은 300 <- fast text쓰므로 안씀\n",
    "model.add(Dense(300, input_shape=(X_train.shape[1], 1), activation=\"relu\"))\n",
    "model.add(SimpleRNN(32))\n",
    "model.add(Dense(1, activation='sigmoid'))\n",
    "\n",
    "model.compile(optimizer='rmsprop', loss='binary_crossentropy', metrics=['acc', f1_m, precision_m, recall_m])\n",
    "history = model.fit(X_train, np.asarray(y_train), epochs=30, batch_size=100, validation_split=0.3)"
   ]
  },
  {
   "cell_type": "code",
   "execution_count": 69,
   "metadata": {},
   "outputs": [],
   "source": [
    "# evaluate the model\n",
    "loss, accuracy, f1_score, precision, recall = model.evaluate(X_test, np.asarray(y_test), verbose=0)"
   ]
  },
  {
   "cell_type": "code",
   "execution_count": 70,
   "metadata": {},
   "outputs": [
    {
     "name": "stdout",
     "output_type": "stream",
     "text": [
      "f1_score : 0.889406144618988 / precision : 0.8713401556015015 / recall : 0.9126014113426208\n"
     ]
    }
   ],
   "source": [
    "print(f'f1_score : {f1_score} / precision : {precision} / recall : {recall}')"
   ]
  },
  {
   "cell_type": "code",
   "execution_count": 71,
   "metadata": {},
   "outputs": [
    {
     "data": {
      "image/png": "[encoded data removed]",
      "text/plain": [
       "<Figure size 432x288 with 2 Axes>"
      ]
     },
     "metadata": {
      "needs_background": "light"
     },
     "output_type": "display_data"
    }
   ],
   "source": [
    "import matplotlib.pyplot as plt\n",
    "\n",
    "fig, loss_ax = plt.subplots()\n",
    "acc_ax = loss_ax.twinx()\n",
    "\n",
    "acc_ax.plot(history.history['acc'], 'b', label='train acc')\n",
    "acc_ax.plot(history.history['val_acc'], 'g', label='val acc')\n",
    "acc_ax.set_ylabel('accuracy')\n",
    "acc_ax.legend(loc='upper left')\n",
    "\n",
    "plt.show()"
   ]
  },
  {
   "cell_type": "markdown",
   "metadata": {},
   "source": [
    "### Save Model"
   ]
  },
  {
   "cell_type": "code",
   "execution_count": 72,
   "metadata": {},
   "outputs": [],
   "source": [
    "# save model\n",
    "model_json = model.to_json()\n",
    "with open(MODEL_PATH, \"w\") as json_file : \n",
    "    json_file.write(model_json)"
   ]
  },
  {
   "cell_type": "code",
   "execution_count": 73,
   "metadata": {},
   "outputs": [],
   "source": [
    "# save weight\n",
    "model.save_weights(MODEL_WEIGHT_PATH)"
   ]
  },
  {
   "cell_type": "markdown",
   "metadata": {},
   "source": [
    "### Load Model"
   ]
  },
  {
   "cell_type": "code",
   "execution_count": 74,
   "metadata": {},
   "outputs": [],
   "source": [
    "from tensorflow.keras.models import model_from_json\n",
    "# load model\n",
    "json_file = open(MODEL_PATH, \"r\")\n",
    "loaded_model_json = json_file.read()\n",
    "json_file.close()\n",
    "loaded_model = model_from_json(loaded_model_json)"
   ]
  },
  {
   "cell_type": "code",
   "execution_count": 75,
   "metadata": {},
   "outputs": [],
   "source": [
    "# load weight\n",
    "loaded_model.load_weights(MODEL_WEIGHT_PATH)"
   ]
  },
  {
   "cell_type": "code",
   "execution_count": 76,
   "metadata": {},
   "outputs": [
    {
     "name": "stdout",
     "output_type": "stream",
     "text": [
      "acc : 83.54%\n"
     ]
    }
   ],
   "source": [
    "# loaded_model.compile(loss=\"binary_crossentropy\", optimizer=\"rmsprop\", metrics=['accuracy'])\n",
    "loaded_model.compile(optimizer='rmsprop', loss='binary_crossentropy', metrics=['acc', f1_m, precision_m, recall_m])\n",
    "# model evaluation\n",
    "score = loaded_model.evaluate(X_train, np.asarray(y_train), verbose=0)\n",
    "\n",
    "print(\"%s : %.2f%%\" % (loaded_model.metrics_names[1], score[1]*100))"
   ]
  },
  {
   "cell_type": "markdown",
   "metadata": {},
   "source": [
    "### Load Embedding Model"
   ]
  },
  {
   "cell_type": "code",
   "execution_count": 77,
   "metadata": {},
   "outputs": [],
   "source": [
    "from gensim.models import FastText\n",
    "embedding = FastText.load(FT_EMBEDDING_PATH)"
   ]
  },
  {
   "cell_type": "markdown",
   "metadata": {},
   "source": [
    "### Predict"
   ]
  },
  {
   "cell_type": "code",
   "execution_count": 78,
   "metadata": {},
   "outputs": [],
   "source": [
    "from bs4 import BeautifulSoup\n",
    "import re\n",
    "\n",
    "# Preprocess\n",
    "def preprocess(x):\n",
    "    # html tag 삭제\n",
    "    x = BeautifulSoup(x, \"html.parser\").get_text()\n",
    "    \n",
    "    # 소문자로 변경\n",
    "    x = x.lower()\n",
    "    \n",
    "    # 영어, 숫자, 한글, 띄어쓰기만 남기기\n",
    "    x = re.sub('[^가-힣\\sa-zA-Z0-9]', '', x)\n",
    "    \n",
    "    # 띄어쓰기 1개로 줄이기\n",
    "    x = re.sub('\\s{2,}', ' ', x)\n",
    "    \n",
    "    # 앞뒤 공백 제거\n",
    "    x = x.strip()\n",
    "    \n",
    "    return x"
   ]
  },
  {
   "cell_type": "code",
   "execution_count": 79,
   "metadata": {},
   "outputs": [],
   "source": [
    "# Embedding\n",
    "def sentenceToVector(embedding, sentence):\n",
    "    words = sentence.split(' ')\n",
    "    words_num = len(words)\n",
    "    vector = np.zeros(300) # ko_model shape가 300\n",
    "    for word in words:\n",
    "        vector += embedding[word]\n",
    "    return vector/words_num"
   ]
  },
  {
   "cell_type": "code",
   "execution_count": 80,
   "metadata": {},
   "outputs": [],
   "source": [
    "# Reshape\n",
    "def reshape(embedding, arr):\n",
    "    result = np.array(arr)\n",
    "    result = result.reshape(1, embedding.wv.vector_size, 1)\n",
    "    return result"
   ]
  },
  {
   "cell_type": "code",
   "execution_count": 141,
   "metadata": {},
   "outputs": [
    {
     "name": "stderr",
     "output_type": "stream",
     "text": [
      "/Users/nero/.virtualenvs/dc/lib/python3.7/site-packages/ipykernel_launcher.py:7: DeprecationWarning: Call to deprecated `__getitem__` (Method will be removed in 4.0.0, use self.wv.__getitem__() instead).\n",
      "  import sys\n"
     ]
    },
    {
     "data": {
      "text/plain": [
       "(1, 300, 1)"
      ]
     },
     "execution_count": 141,
     "metadata": {},
     "output_type": "execute_result"
    }
   ],
   "source": [
    "raw = \"[ 제주 표선 맛집 ] 메밀밭에 가시리 - 아이와 가기 좋은 식당 >> 클릭으로 블로그 구독하기 << 안녕하세요, 동글엄마예요^^표선에 있는 말선 명품 제주 농원에서 귤따기 체험을 하고2019/11/14 - [ 제주 아이와 가볼만 한 곳 ] 말선 명품 제주 농원 - 감귤 따기 체험노창래 농부님 추천받아 농원 근처에서 저녁식사를 하게 되었어요.동글이가 잠들지 않았다면..가보지 못했을 곳인데 푸욱 잠들었던 동글이덕에 저녁식\"\n",
    "# raw = \"기성용의 K리그 복귀 가능할까? FC서울의 대우가 씁씁하다.\"\n",
    "raw = \"10년 전 나에게 쓰는 편지\"\n",
    "sample = preprocess(raw)\n",
    "sample = sentenceToVector(embedding, sample)\n",
    "sample = reshape(embedding, sample)\n",
    "sample.shape"
   ]
  },
  {
   "cell_type": "code",
   "execution_count": 142,
   "metadata": {
    "scrolled": true
   },
   "outputs": [],
   "source": [
    "confidence = loaded_model.predict(sample)[0][0]"
   ]
  },
  {
   "cell_type": "code",
   "execution_count": 143,
   "metadata": {},
   "outputs": [
    {
     "name": "stdout",
     "output_type": "stream",
     "text": [
      "input : 10년 전 나에게 쓰는 편지\n",
      "판단 : IT 관련 글이 아닙니다.\n",
      "신뢰도 : 98%\n"
     ]
    }
   ],
   "source": [
    "import math\n",
    "if confidence < 0.5:\n",
    "    print(f'input : {raw}\\n판단 : IT 관련 글이 아닙니다.\\n신뢰도 : {math.ceil((1 - confidence) * 100)}%')\n",
    "else:\n",
    "    print(f'input : {raw}\\n판단 : IT 관련 글입니다.\\n신뢰도 {math.ceil(confidence * 100)}%')"
   ]
  }
 ],
 "metadata": {
  "kernelspec": {
   "display_name": "dc",
   "language": "python",
   "name": "dc"
  },
  "language_info": {
   "codemirror_mode": {
    "name": "ipython",
    "version": 3
   },
   "file_extension": ".py",
   "mimetype": "text/x-python",
   "name": "python",
   "nbconvert_exporter": "python",
   "pygments_lexer": "ipython3",
   "version": "3.7.3"
  }
 },
 "nbformat": 4,
 "nbformat_minor": 2
}
